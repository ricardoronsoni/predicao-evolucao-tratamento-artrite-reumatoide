{
 "cells": [
  {
   "attachments": {},
   "cell_type": "markdown",
   "metadata": {},
   "source": [
    "# Importações"
   ]
  },
  {
   "cell_type": "code",
   "execution_count": 98,
   "metadata": {},
   "outputs": [],
   "source": [
    "# Importaçòes\n",
    "import os\n",
    "import time\n",
    "import pandas as pd\n",
    "import numpy as np\n",
    "import seaborn as sns\n",
    "import matplotlib.pyplot as plt\n",
    "from pyod.models.knn import KNN\n",
    "import plotly.graph_objects as gp\n",
    "from sklearn.impute import KNNImputer\n",
    "from sklearn.model_selection import train_test_split, GridSearchCV, cross_validate, KFold, cross_val_score, RepeatedKFold\n",
    "from sklearn.decomposition import PCA\n",
    "from sklearn.naive_bayes import GaussianNB\n",
    "from sklearn.metrics import roc_curve, roc_auc_score, confusion_matrix\n",
    "from imblearn.over_sampling import SMOTE\n",
    "from imblearn.under_sampling import TomekLinks\n",
    "from imblearn.pipeline import Pipeline\n",
    "from sklearn.compose import ColumnTransformer\n",
    "from sklearn.preprocessing import OneHotEncoder, StandardScaler\n",
    "from sklearn.linear_model import LogisticRegression\n",
    "from sklearn.neural_network import MLPClassifier\n",
    "from sklearn.neighbors import KNeighborsClassifier\n",
    "from sklearn.calibration import calibration_curve\n",
    "import pickle\n",
    "\n",
    "pd.set_option('display.float_format', '{:.3f}'.format)\n",
    "pd.set_option('display.max_columns', None)\n",
    "# Remover alertas\n",
    "from sklearn.exceptions import DataConversionWarning\n",
    "import warnings \n",
    "warnings.filterwarnings('ignore')\n",
    "warnings.filterwarnings(action='ignore', category=DataConversionWarning)\n",
    "from sklearn.exceptions import ConvergenceWarning\n",
    "with warnings.catch_warnings():\n",
    "    warnings.filterwarnings(\"ignore\", category=ConvergenceWarning)"
   ]
  },
  {
   "attachments": {},
   "cell_type": "markdown",
   "metadata": {},
   "source": [
    "# Carregar dados"
   ]
  },
  {
   "attachments": {},
   "cell_type": "markdown",
   "metadata": {},
   "source": [
    "Os registros podem estar divididos em mais de um arquivo `.CSV` devido a grande quantidade de dados. Assim, todos os arquivos `.CSV` contidos no diretório `./dados` serão carregados em um único dataframe.   \n",
    "Nesse estudo a variável dependente será a `nova_terapia` e as demais serão utilizadas para predição."
   ]
  },
  {
   "cell_type": "code",
   "execution_count": 11,
   "metadata": {},
   "outputs": [
    {
     "name": "stdout",
     "output_type": "stream",
     "text": [
      "artrite_reumatoide.csv carregado com sucesso.\n"
     ]
    }
   ],
   "source": [
    "# Listar os arquivos do tipo '.CSV' da pasta './dados'\n",
    "diretorio_arquivos = './dados'\n",
    "lista_dataframe = []\n",
    "arquivos_csv = [x for x in os.listdir(diretorio_arquivos) if x.endswith('.csv')]\n",
    "\n",
    "# Ler todos os arquivos do tipo '.CSV' da pasta './dados'\n",
    "for nome_arquivo in arquivos_csv:\n",
    "    arquivo = os.path.join(diretorio_arquivos, nome_arquivo)\n",
    "    dataframe = pd.read_csv(arquivo, low_memory=False)\n",
    "    lista_dataframe.append(dataframe)\n",
    "    print(f'{nome_arquivo} carregado com sucesso.')\n",
    "\n",
    "# Criar o dataframe com os arquivos lidos\n",
    "df_original = pd.concat(lista_dataframe)"
   ]
  },
  {
   "attachments": {},
   "cell_type": "markdown",
   "metadata": {},
   "source": [
    "Para avaliar se a importação ocorreu com sucesso foi verificada a estrutura do dataframe e os primeiros registros do mesmo."
   ]
  },
  {
   "cell_type": "code",
   "execution_count": 374,
   "metadata": {},
   "outputs": [
    {
     "name": "stdout",
     "output_type": "stream",
     "text": [
      "Linhas (registros): 99354 | Colunas (variáveis): 63\n"
     ]
    },
    {
     "data": {
      "text/html": [
       "<div>\n",
       "<style scoped>\n",
       "    .dataframe tbody tr th:only-of-type {\n",
       "        vertical-align: middle;\n",
       "    }\n",
       "\n",
       "    .dataframe tbody tr th {\n",
       "        vertical-align: top;\n",
       "    }\n",
       "\n",
       "    .dataframe thead th {\n",
       "        text-align: right;\n",
       "    }\n",
       "</style>\n",
       "<table border=\"1\" class=\"dataframe\">\n",
       "  <thead>\n",
       "    <tr style=\"text-align: right;\">\n",
       "      <th></th>\n",
       "      <th>cns_paciente</th>\n",
       "      <th>cid</th>\n",
       "      <th>idade_paciente_inicio_tto</th>\n",
       "      <th>sexo_paciente</th>\n",
       "      <th>municipio_residencia_paciente</th>\n",
       "      <th>populacao_residencia_paciente</th>\n",
       "      <th>regiao_residencia_paciente</th>\n",
       "      <th>residencia_amazonia_legal</th>\n",
       "      <th>residencia_semiarido</th>\n",
       "      <th>estabelecimentos_saude_percap_uf</th>\n",
       "      <th>beneficiarios_plano_saude_percap_uf</th>\n",
       "      <th>idhm_residencia_paciente</th>\n",
       "      <th>indice_gini</th>\n",
       "      <th>renda_domiciliar_percap</th>\n",
       "      <th>sigla_uf_dispensacao</th>\n",
       "      <th>codigo_municipio_dispensacao</th>\n",
       "      <th>cnes_dispensacao</th>\n",
       "      <th>cnes_solicitante</th>\n",
       "      <th>uso_leflunomida</th>\n",
       "      <th>meses_tto_leflunomida</th>\n",
       "      <th>uso_hidroxicloroquina</th>\n",
       "      <th>meses_tto_hidroxicloroquina</th>\n",
       "      <th>uso_cloroquina</th>\n",
       "      <th>meses_tto_cloroquina</th>\n",
       "      <th>uso_metotrexato</th>\n",
       "      <th>meses_tto_metotrexato</th>\n",
       "      <th>uso_sulfassalazina</th>\n",
       "      <th>meses_tto_sulfassalazina</th>\n",
       "      <th>uso_azatioprina</th>\n",
       "      <th>meses_tto_azatioprina</th>\n",
       "      <th>uso_ciclosporina</th>\n",
       "      <th>meses_tto_ciclosporina</th>\n",
       "      <th>uso_ciclofosfamida</th>\n",
       "      <th>meses_tto_ciclofosfamida</th>\n",
       "      <th>uso_mtx_hcq</th>\n",
       "      <th>meses_tto_mtx_hcq</th>\n",
       "      <th>uso_mtx_ssz</th>\n",
       "      <th>meses_tto_mtx_ssz</th>\n",
       "      <th>uso_ssz_hcq</th>\n",
       "      <th>meses_tto_ssz_hcq</th>\n",
       "      <th>uso_lef_mtx</th>\n",
       "      <th>meses_tto_lef_mtx</th>\n",
       "      <th>uso_lef_hcq</th>\n",
       "      <th>meses_tto_lef_hcq</th>\n",
       "      <th>uso_naproxeno</th>\n",
       "      <th>meses_tto_naproxeno</th>\n",
       "      <th>uso_lef_ssz</th>\n",
       "      <th>meses_tto_lef_ssz</th>\n",
       "      <th>uso_mtx_ssz_hcq</th>\n",
       "      <th>meses_tto_mtx_ssz_hcq</th>\n",
       "      <th>meses_mmcd</th>\n",
       "      <th>maior_gap_mmcd</th>\n",
       "      <th>mmcd_distintos</th>\n",
       "      <th>uso_tto_mmcd_duplo</th>\n",
       "      <th>meses_tto_mmcd_duplo</th>\n",
       "      <th>uso_tto_mmcd_triplo</th>\n",
       "      <th>meses_tto_mmcd_triplo</th>\n",
       "      <th>competencia_inicio</th>\n",
       "      <th>meses_total_tto</th>\n",
       "      <th>nova_terapia</th>\n",
       "      <th>paciente_novo</th>\n",
       "      <th>nova_terapia_antes_seis_meses_mmcd</th>\n",
       "      <th>competencia_inicio_nova_terapia</th>\n",
       "    </tr>\n",
       "  </thead>\n",
       "  <tbody>\n",
       "    <tr>\n",
       "      <th>0</th>\n",
       "      <td>8384837b7b7f83807c848181847b80</td>\n",
       "      <td>M051</td>\n",
       "      <td>62</td>\n",
       "      <td>M</td>\n",
       "      <td>315670</td>\n",
       "      <td>137877.000</td>\n",
       "      <td>Sudeste</td>\n",
       "      <td>False</td>\n",
       "      <td>False</td>\n",
       "      <td>0.002</td>\n",
       "      <td>0.071</td>\n",
       "      <td>0.731</td>\n",
       "      <td>0.461</td>\n",
       "      <td>1322.000</td>\n",
       "      <td>MG</td>\n",
       "      <td>310620</td>\n",
       "      <td>2768410</td>\n",
       "      <td>0</td>\n",
       "      <td>False</td>\n",
       "      <td>0</td>\n",
       "      <td>False</td>\n",
       "      <td>0</td>\n",
       "      <td>False</td>\n",
       "      <td>0</td>\n",
       "      <td>False</td>\n",
       "      <td>0</td>\n",
       "      <td>False</td>\n",
       "      <td>0</td>\n",
       "      <td>True</td>\n",
       "      <td>17</td>\n",
       "      <td>False</td>\n",
       "      <td>0</td>\n",
       "      <td>False</td>\n",
       "      <td>0</td>\n",
       "      <td>False</td>\n",
       "      <td>0</td>\n",
       "      <td>False</td>\n",
       "      <td>0</td>\n",
       "      <td>False</td>\n",
       "      <td>0</td>\n",
       "      <td>False</td>\n",
       "      <td>0</td>\n",
       "      <td>False</td>\n",
       "      <td>0</td>\n",
       "      <td>False</td>\n",
       "      <td>0</td>\n",
       "      <td>False</td>\n",
       "      <td>0</td>\n",
       "      <td>False</td>\n",
       "      <td>0</td>\n",
       "      <td>0</td>\n",
       "      <td>0</td>\n",
       "      <td>0</td>\n",
       "      <td>False</td>\n",
       "      <td>0</td>\n",
       "      <td>False</td>\n",
       "      <td>0</td>\n",
       "      <td>201907</td>\n",
       "      <td>17</td>\n",
       "      <td>True</td>\n",
       "      <td>True</td>\n",
       "      <td>False</td>\n",
       "      <td>2021-02-01</td>\n",
       "    </tr>\n",
       "    <tr>\n",
       "      <th>1</th>\n",
       "      <td>827b817d7b7e807b7e80807c838184</td>\n",
       "      <td>M058</td>\n",
       "      <td>68</td>\n",
       "      <td>F</td>\n",
       "      <td>410690</td>\n",
       "      <td>1963726.000</td>\n",
       "      <td>Nordeste</td>\n",
       "      <td>False</td>\n",
       "      <td>False</td>\n",
       "      <td>0.001</td>\n",
       "      <td>0.043</td>\n",
       "      <td>0.823</td>\n",
       "      <td>0.503</td>\n",
       "      <td>847.000</td>\n",
       "      <td>PR</td>\n",
       "      <td>410690</td>\n",
       "      <td>2784432</td>\n",
       "      <td>0</td>\n",
       "      <td>True</td>\n",
       "      <td>27</td>\n",
       "      <td>False</td>\n",
       "      <td>0</td>\n",
       "      <td>False</td>\n",
       "      <td>0</td>\n",
       "      <td>True</td>\n",
       "      <td>21</td>\n",
       "      <td>False</td>\n",
       "      <td>0</td>\n",
       "      <td>False</td>\n",
       "      <td>0</td>\n",
       "      <td>False</td>\n",
       "      <td>0</td>\n",
       "      <td>False</td>\n",
       "      <td>0</td>\n",
       "      <td>False</td>\n",
       "      <td>0</td>\n",
       "      <td>False</td>\n",
       "      <td>0</td>\n",
       "      <td>False</td>\n",
       "      <td>0</td>\n",
       "      <td>True</td>\n",
       "      <td>21</td>\n",
       "      <td>False</td>\n",
       "      <td>0</td>\n",
       "      <td>False</td>\n",
       "      <td>0</td>\n",
       "      <td>False</td>\n",
       "      <td>0</td>\n",
       "      <td>False</td>\n",
       "      <td>0</td>\n",
       "      <td>27</td>\n",
       "      <td>2</td>\n",
       "      <td>2</td>\n",
       "      <td>True</td>\n",
       "      <td>21</td>\n",
       "      <td>False</td>\n",
       "      <td>0</td>\n",
       "      <td>202012</td>\n",
       "      <td>27</td>\n",
       "      <td>False</td>\n",
       "      <td>True</td>\n",
       "      <td>False</td>\n",
       "      <td>NaN</td>\n",
       "    </tr>\n",
       "    <tr>\n",
       "      <th>2</th>\n",
       "      <td>827b817d7b7e807b7e827c8481817d</td>\n",
       "      <td>M053</td>\n",
       "      <td>68</td>\n",
       "      <td>M</td>\n",
       "      <td>354940</td>\n",
       "      <td>52737.000</td>\n",
       "      <td>Sudeste</td>\n",
       "      <td>False</td>\n",
       "      <td>False</td>\n",
       "      <td>0.002</td>\n",
       "      <td>0.093</td>\n",
       "      <td>0.762</td>\n",
       "      <td>0.568</td>\n",
       "      <td>922.000</td>\n",
       "      <td>SP</td>\n",
       "      <td>351620</td>\n",
       "      <td>5450616</td>\n",
       "      <td>0</td>\n",
       "      <td>False</td>\n",
       "      <td>0</td>\n",
       "      <td>True</td>\n",
       "      <td>19</td>\n",
       "      <td>False</td>\n",
       "      <td>0</td>\n",
       "      <td>False</td>\n",
       "      <td>0</td>\n",
       "      <td>False</td>\n",
       "      <td>0</td>\n",
       "      <td>False</td>\n",
       "      <td>0</td>\n",
       "      <td>False</td>\n",
       "      <td>0</td>\n",
       "      <td>False</td>\n",
       "      <td>0</td>\n",
       "      <td>False</td>\n",
       "      <td>0</td>\n",
       "      <td>False</td>\n",
       "      <td>0</td>\n",
       "      <td>False</td>\n",
       "      <td>0</td>\n",
       "      <td>False</td>\n",
       "      <td>0</td>\n",
       "      <td>False</td>\n",
       "      <td>0</td>\n",
       "      <td>False</td>\n",
       "      <td>0</td>\n",
       "      <td>False</td>\n",
       "      <td>0</td>\n",
       "      <td>False</td>\n",
       "      <td>0</td>\n",
       "      <td>19</td>\n",
       "      <td>4</td>\n",
       "      <td>1</td>\n",
       "      <td>False</td>\n",
       "      <td>0</td>\n",
       "      <td>False</td>\n",
       "      <td>0</td>\n",
       "      <td>201903</td>\n",
       "      <td>29</td>\n",
       "      <td>False</td>\n",
       "      <td>True</td>\n",
       "      <td>False</td>\n",
       "      <td>NaN</td>\n",
       "    </tr>\n",
       "    <tr>\n",
       "      <th>3</th>\n",
       "      <td>827b817d7b7e807b7f7e847b838184</td>\n",
       "      <td>M060</td>\n",
       "      <td>52</td>\n",
       "      <td>F</td>\n",
       "      <td>251480</td>\n",
       "      <td>3607.000</td>\n",
       "      <td>Nordeste</td>\n",
       "      <td>False</td>\n",
       "      <td>True</td>\n",
       "      <td>0.002</td>\n",
       "      <td>0.109</td>\n",
       "      <td>0.556</td>\n",
       "      <td>0.562</td>\n",
       "      <td>872.000</td>\n",
       "      <td>PB</td>\n",
       "      <td>250750</td>\n",
       "      <td>4016017</td>\n",
       "      <td>2322471</td>\n",
       "      <td>False</td>\n",
       "      <td>0</td>\n",
       "      <td>True</td>\n",
       "      <td>15</td>\n",
       "      <td>False</td>\n",
       "      <td>0</td>\n",
       "      <td>True</td>\n",
       "      <td>13</td>\n",
       "      <td>False</td>\n",
       "      <td>0</td>\n",
       "      <td>False</td>\n",
       "      <td>0</td>\n",
       "      <td>False</td>\n",
       "      <td>0</td>\n",
       "      <td>False</td>\n",
       "      <td>0</td>\n",
       "      <td>True</td>\n",
       "      <td>11</td>\n",
       "      <td>False</td>\n",
       "      <td>0</td>\n",
       "      <td>False</td>\n",
       "      <td>0</td>\n",
       "      <td>False</td>\n",
       "      <td>0</td>\n",
       "      <td>False</td>\n",
       "      <td>0</td>\n",
       "      <td>False</td>\n",
       "      <td>0</td>\n",
       "      <td>False</td>\n",
       "      <td>0</td>\n",
       "      <td>False</td>\n",
       "      <td>0</td>\n",
       "      <td>17</td>\n",
       "      <td>5</td>\n",
       "      <td>2</td>\n",
       "      <td>True</td>\n",
       "      <td>11</td>\n",
       "      <td>False</td>\n",
       "      <td>0</td>\n",
       "      <td>202101</td>\n",
       "      <td>25</td>\n",
       "      <td>False</td>\n",
       "      <td>True</td>\n",
       "      <td>False</td>\n",
       "      <td>NaN</td>\n",
       "    </tr>\n",
       "    <tr>\n",
       "      <th>4</th>\n",
       "      <td>827b817d7b7e807b807c838283817d</td>\n",
       "      <td>M058</td>\n",
       "      <td>62</td>\n",
       "      <td>F</td>\n",
       "      <td>410690</td>\n",
       "      <td>1963726.000</td>\n",
       "      <td>Nordeste</td>\n",
       "      <td>False</td>\n",
       "      <td>False</td>\n",
       "      <td>0.001</td>\n",
       "      <td>0.043</td>\n",
       "      <td>0.823</td>\n",
       "      <td>0.503</td>\n",
       "      <td>847.000</td>\n",
       "      <td>PR</td>\n",
       "      <td>410690</td>\n",
       "      <td>2784432</td>\n",
       "      <td>0</td>\n",
       "      <td>True</td>\n",
       "      <td>13</td>\n",
       "      <td>False</td>\n",
       "      <td>0</td>\n",
       "      <td>False</td>\n",
       "      <td>0</td>\n",
       "      <td>False</td>\n",
       "      <td>0</td>\n",
       "      <td>False</td>\n",
       "      <td>0</td>\n",
       "      <td>False</td>\n",
       "      <td>0</td>\n",
       "      <td>False</td>\n",
       "      <td>0</td>\n",
       "      <td>False</td>\n",
       "      <td>0</td>\n",
       "      <td>False</td>\n",
       "      <td>0</td>\n",
       "      <td>False</td>\n",
       "      <td>0</td>\n",
       "      <td>False</td>\n",
       "      <td>0</td>\n",
       "      <td>False</td>\n",
       "      <td>0</td>\n",
       "      <td>False</td>\n",
       "      <td>0</td>\n",
       "      <td>False</td>\n",
       "      <td>0</td>\n",
       "      <td>False</td>\n",
       "      <td>0</td>\n",
       "      <td>False</td>\n",
       "      <td>0</td>\n",
       "      <td>13</td>\n",
       "      <td>1</td>\n",
       "      <td>1</td>\n",
       "      <td>False</td>\n",
       "      <td>0</td>\n",
       "      <td>False</td>\n",
       "      <td>0</td>\n",
       "      <td>202203</td>\n",
       "      <td>12</td>\n",
       "      <td>False</td>\n",
       "      <td>True</td>\n",
       "      <td>False</td>\n",
       "      <td>NaN</td>\n",
       "    </tr>\n",
       "  </tbody>\n",
       "</table>\n",
       "</div>"
      ],
      "text/plain": [
       "                     cns_paciente   cid  idade_paciente_inicio_tto  \\\n",
       "0  8384837b7b7f83807c848181847b80  M051                         62   \n",
       "1  827b817d7b7e807b7e80807c838184  M058                         68   \n",
       "2  827b817d7b7e807b7e827c8481817d  M053                         68   \n",
       "3  827b817d7b7e807b7f7e847b838184  M060                         52   \n",
       "4  827b817d7b7e807b807c838283817d  M058                         62   \n",
       "\n",
       "  sexo_paciente  municipio_residencia_paciente  populacao_residencia_paciente  \\\n",
       "0             M                         315670                     137877.000   \n",
       "1             F                         410690                    1963726.000   \n",
       "2             M                         354940                      52737.000   \n",
       "3             F                         251480                       3607.000   \n",
       "4             F                         410690                    1963726.000   \n",
       "\n",
       "  regiao_residencia_paciente residencia_amazonia_legal residencia_semiarido  \\\n",
       "0                    Sudeste                     False                False   \n",
       "1                   Nordeste                     False                False   \n",
       "2                    Sudeste                     False                False   \n",
       "3                   Nordeste                     False                 True   \n",
       "4                   Nordeste                     False                False   \n",
       "\n",
       "   estabelecimentos_saude_percap_uf  beneficiarios_plano_saude_percap_uf  \\\n",
       "0                             0.002                                0.071   \n",
       "1                             0.001                                0.043   \n",
       "2                             0.002                                0.093   \n",
       "3                             0.002                                0.109   \n",
       "4                             0.001                                0.043   \n",
       "\n",
       "   idhm_residencia_paciente  indice_gini  renda_domiciliar_percap  \\\n",
       "0                     0.731        0.461                 1322.000   \n",
       "1                     0.823        0.503                  847.000   \n",
       "2                     0.762        0.568                  922.000   \n",
       "3                     0.556        0.562                  872.000   \n",
       "4                     0.823        0.503                  847.000   \n",
       "\n",
       "  sigla_uf_dispensacao  codigo_municipio_dispensacao  cnes_dispensacao  \\\n",
       "0                   MG                        310620           2768410   \n",
       "1                   PR                        410690           2784432   \n",
       "2                   SP                        351620           5450616   \n",
       "3                   PB                        250750           4016017   \n",
       "4                   PR                        410690           2784432   \n",
       "\n",
       "   cnes_solicitante  uso_leflunomida  meses_tto_leflunomida  \\\n",
       "0                 0            False                      0   \n",
       "1                 0             True                     27   \n",
       "2                 0            False                      0   \n",
       "3           2322471            False                      0   \n",
       "4                 0             True                     13   \n",
       "\n",
       "   uso_hidroxicloroquina  meses_tto_hidroxicloroquina  uso_cloroquina  \\\n",
       "0                  False                            0           False   \n",
       "1                  False                            0           False   \n",
       "2                   True                           19           False   \n",
       "3                   True                           15           False   \n",
       "4                  False                            0           False   \n",
       "\n",
       "   meses_tto_cloroquina  uso_metotrexato  meses_tto_metotrexato  \\\n",
       "0                     0            False                      0   \n",
       "1                     0             True                     21   \n",
       "2                     0            False                      0   \n",
       "3                     0             True                     13   \n",
       "4                     0            False                      0   \n",
       "\n",
       "   uso_sulfassalazina  meses_tto_sulfassalazina  uso_azatioprina  \\\n",
       "0               False                         0             True   \n",
       "1               False                         0            False   \n",
       "2               False                         0            False   \n",
       "3               False                         0            False   \n",
       "4               False                         0            False   \n",
       "\n",
       "   meses_tto_azatioprina  uso_ciclosporina  meses_tto_ciclosporina  \\\n",
       "0                     17             False                       0   \n",
       "1                      0             False                       0   \n",
       "2                      0             False                       0   \n",
       "3                      0             False                       0   \n",
       "4                      0             False                       0   \n",
       "\n",
       "   uso_ciclofosfamida  meses_tto_ciclofosfamida  uso_mtx_hcq  \\\n",
       "0               False                         0        False   \n",
       "1               False                         0        False   \n",
       "2               False                         0        False   \n",
       "3               False                         0         True   \n",
       "4               False                         0        False   \n",
       "\n",
       "   meses_tto_mtx_hcq  uso_mtx_ssz  meses_tto_mtx_ssz  uso_ssz_hcq  \\\n",
       "0                  0        False                  0        False   \n",
       "1                  0        False                  0        False   \n",
       "2                  0        False                  0        False   \n",
       "3                 11        False                  0        False   \n",
       "4                  0        False                  0        False   \n",
       "\n",
       "   meses_tto_ssz_hcq  uso_lef_mtx  meses_tto_lef_mtx  uso_lef_hcq  \\\n",
       "0                  0        False                  0        False   \n",
       "1                  0         True                 21        False   \n",
       "2                  0        False                  0        False   \n",
       "3                  0        False                  0        False   \n",
       "4                  0        False                  0        False   \n",
       "\n",
       "   meses_tto_lef_hcq  uso_naproxeno  meses_tto_naproxeno  uso_lef_ssz  \\\n",
       "0                  0          False                    0        False   \n",
       "1                  0          False                    0        False   \n",
       "2                  0          False                    0        False   \n",
       "3                  0          False                    0        False   \n",
       "4                  0          False                    0        False   \n",
       "\n",
       "   meses_tto_lef_ssz  uso_mtx_ssz_hcq  meses_tto_mtx_ssz_hcq  meses_mmcd  \\\n",
       "0                  0            False                      0           0   \n",
       "1                  0            False                      0          27   \n",
       "2                  0            False                      0          19   \n",
       "3                  0            False                      0          17   \n",
       "4                  0            False                      0          13   \n",
       "\n",
       "   maior_gap_mmcd  mmcd_distintos  uso_tto_mmcd_duplo  meses_tto_mmcd_duplo  \\\n",
       "0               0               0               False                     0   \n",
       "1               2               2                True                    21   \n",
       "2               4               1               False                     0   \n",
       "3               5               2                True                    11   \n",
       "4               1               1               False                     0   \n",
       "\n",
       "   uso_tto_mmcd_triplo  meses_tto_mmcd_triplo  competencia_inicio  \\\n",
       "0                False                      0              201907   \n",
       "1                False                      0              202012   \n",
       "2                False                      0              201903   \n",
       "3                False                      0              202101   \n",
       "4                False                      0              202203   \n",
       "\n",
       "   meses_total_tto  nova_terapia  paciente_novo  \\\n",
       "0               17          True           True   \n",
       "1               27         False           True   \n",
       "2               29         False           True   \n",
       "3               25         False           True   \n",
       "4               12         False           True   \n",
       "\n",
       "   nova_terapia_antes_seis_meses_mmcd competencia_inicio_nova_terapia  \n",
       "0                               False                      2021-02-01  \n",
       "1                               False                             NaN  \n",
       "2                               False                             NaN  \n",
       "3                               False                             NaN  \n",
       "4                               False                             NaN  "
      ]
     },
     "execution_count": 374,
     "metadata": {},
     "output_type": "execute_result"
    }
   ],
   "source": [
    "# Visualizar a estrutura do arquivo\n",
    "print(f'Linhas (registros): {df_original.shape[0]} | Colunas (variáveis): {df_original.shape[1]}')\n",
    "\n",
    "# Visualizar o dataframe criado\n",
    "df_original.head()"
   ]
  },
  {
   "attachments": {},
   "cell_type": "markdown",
   "metadata": {},
   "source": [
    "# Pré-processamento\n",
    "## Excluir variáveis não utilizadas\n",
    "Primeiramente, foi verificado que as colunas `cns_paciente`, `competencia_inicio`, `paciente_novo`, `nova_terapia_antes_seis_meses_mmcd` e `competencia_inicio_nova_terapia` não possuem utilidade para a criação do modelo e as mesmas foram excluídas."
   ]
  },
  {
   "cell_type": "code",
   "execution_count": 12,
   "metadata": {},
   "outputs": [
    {
     "name": "stdout",
     "output_type": "stream",
     "text": [
      "Colunas antes da exclusão: 63\n",
      "Colunas após a exclusão: 58\n",
      "Colunas excluídas: 5\n"
     ]
    }
   ],
   "source": [
    "# Verificar a quantidade de colunas antes da exclusão\n",
    "qtd_col_anterior = df_original.shape[1]\n",
    "\n",
    "# Excluir as colunas\n",
    "df = df_original.drop(['cns_paciente','competencia_inicio', 'paciente_novo', 'nova_terapia_antes_seis_meses_mmcd', 'competencia_inicio_nova_terapia'], axis=1)\n",
    "\n",
    "# Confirmar a exclusão\n",
    "print(f'Colunas antes da exclusão: {qtd_col_anterior}')\n",
    "print(f'Colunas após a exclusão: {df.shape[1]}')\n",
    "print(f'Colunas excluídas: {qtd_col_anterior - df.shape[1]}')"
   ]
  },
  {
   "attachments": {},
   "cell_type": "markdown",
   "metadata": {},
   "source": [
    "## Dados ausentes\n",
    "Foi verificado que as colunas que possuem dados referentes aos municípios possuem valores nulos, sendo as colunas `populacao_residencia_paciente`, `residencia_amazonia_legal`, `residencia_semiarido`, `idhm_residencia_paciente` e `indice_gini`. Isso ocorre pois existem municípios que foram fundados após a última atualização da respectiva métrica."
   ]
  },
  {
   "cell_type": "code",
   "execution_count": 377,
   "metadata": {},
   "outputs": [
    {
     "name": "stdout",
     "output_type": "stream",
     "text": [
      "populacao_residencia_paciente    574\n",
      "residencia_amazonia_legal        574\n",
      "residencia_semiarido             574\n",
      "idhm_residencia_paciente         598\n",
      "indice_gini                      574\n",
      "dtype: int64\n"
     ]
    }
   ],
   "source": [
    "# Verificar a existência de dados nulos \n",
    "qtd_nulos = df.isnull().sum()\n",
    "\n",
    "# Visualizar somente as colunas com registros nulos\n",
    "print(qtd_nulos[qtd_nulos>0])"
   ]
  },
  {
   "attachments": {},
   "cell_type": "markdown",
   "metadata": {},
   "source": [
    "A partir de um mapa de calor foi possível confirmar visualmente que poucos registros possuem valores nulos."
   ]
  },
  {
   "cell_type": "code",
   "execution_count": 378,
   "metadata": {},
   "outputs": [
    {
     "data": {
      "image/png": "[encoded data removed]",
      "text/plain": [
       "<Figure size 640x480 with 2 Axes>"
      ]
     },
     "metadata": {},
     "output_type": "display_data"
    }
   ],
   "source": [
    "# Mapa de calor com valores nulos\n",
    "sns.heatmap(df.isnull())\n",
    "ax = plt.gca()\n",
    "ax.set_title('Gráfico de calor dos valores nulos')\n",
    "plt.show()"
   ]
  },
  {
   "attachments": {},
   "cell_type": "markdown",
   "metadata": {},
   "source": [
    "Para imputar os valores nulos foi utilizado o algoritmo `KNN Imputer` baseado no `k-Nearest Neighbors`. A atualização dos dados ausentes ocorreu no pipeline de treinamento, visando diminuir o viés do estudo."
   ]
  },
  {
   "attachments": {},
   "cell_type": "markdown",
   "metadata": {},
   "source": [
    "## Avaliação dos dados\n",
    "As colunas do dataframe foram avaliadas para identificar possíveis valores incorretos ou outliers.\n",
    "### Variável dependente (nova_terapia)\n",
    "Verificou-se que os dados encontram-se desbalanceados, onde os pacientes que não migraram de tratamento correspondem a 86,86% dos registros. Dessa forma, na etapa de predição serão testadas as técnicas de subamostragem e sobreamostragem para verificar se os scores dos algoritmos melhoram ou não com o balanceamento da classe."
   ]
  },
  {
   "cell_type": "code",
   "execution_count": 379,
   "metadata": {},
   "outputs": [
    {
     "name": "stdout",
     "output_type": "stream",
     "text": [
      "nova_terapia\n",
      "       Registros  Porcentagem\n",
      "False      86126       86.690\n",
      "True       13228       13.310\n"
     ]
    }
   ],
   "source": [
    "# Função para contar os registros distintos e porcentagem de cada\n",
    "def count_percent(coluna):\n",
    "    print(coluna)\n",
    "    # Obter os valores distintos e a contagem\n",
    "    valores_distintos = df[coluna].value_counts()\n",
    "\n",
    "    # Calcular a porcentagem de cada valor\n",
    "    porcentagem = round(valores_distintos / len(df) * 100, 2)\n",
    "\n",
    "    # Criar um novo dataframe com as informações obtidas\n",
    "    df_count = pd.DataFrame({'Registros': valores_distintos, 'Porcentagem': porcentagem})\n",
    "\n",
    "    # Exibir as contagens e porcentagens\n",
    "    print(df_count)\n",
    "\n",
    "count_percent('nova_terapia')"
   ]
  },
  {
   "attachments": {},
   "cell_type": "markdown",
   "metadata": {},
   "source": [
    "### CID-10\n",
    "Foi verificado que todos os valores de CID-10 informados na coluna `cid` são válidos."
   ]
  },
  {
   "cell_type": "code",
   "execution_count": 380,
   "metadata": {},
   "outputs": [
    {
     "data": {
      "text/plain": [
       "M058    48645\n",
       "M060    26882\n",
       "M050    10225\n",
       "M068     7045\n",
       "M053     5141\n",
       "M051      859\n",
       "M052      557\n",
       "Name: cid, dtype: int64"
      ]
     },
     "execution_count": 380,
     "metadata": {},
     "output_type": "execute_result"
    }
   ],
   "source": [
    "# Plotar a quantidade de registros por CID-10\n",
    "df['cid'].value_counts()"
   ]
  },
  {
   "attachments": {},
   "cell_type": "markdown",
   "metadata": {},
   "source": [
    "Adicionalmente, foi criado um gráfico de barras empilhadas contendo a estratificação de cada CID-10 pela classe do dataframe."
   ]
  },
  {
   "cell_type": "code",
   "execution_count": 381,
   "metadata": {},
   "outputs": [
    {
     "data": {
      "image/png": "[encoded data removed]",
      "text/plain": [
       "<Figure size 640x480 with 1 Axes>"
      ]
     },
     "metadata": {},
     "output_type": "display_data"
    }
   ],
   "source": [
    "# Agrupar os dados pela coluna 'cid' e 'novo_tto' e contar os registros\n",
    "cid_tto_count = df.groupby(['cid', 'nova_terapia']).size().reset_index(name='count')\n",
    "\n",
    "# Transformar os dados em uma tabela pivô com as contagens por 'cid' e 'novo_tto'\n",
    "cid_tto_pivot = pd.pivot_table(cid_tto_count, values='count', index='cid', columns='nova_terapia', fill_value=0)\n",
    "\n",
    "# Criar um gráfico de barras empilhadas com as contagens de 'cid' e 'novo_tto'\n",
    "fig, ax = plt.subplots()\n",
    "cid_tto_pivot.plot(kind='bar', stacked=True, ax=ax)\n",
    "\n",
    "# Exibir o gráfico\n",
    "ax.set_title('Distribuição dos pacientes pelo CID-10')\n",
    "ax.set_xlabel('CID-10')\n",
    "ax.set_ylabel('Registros')\n",
    "plt.show()"
   ]
  },
  {
   "attachments": {},
   "cell_type": "markdown",
   "metadata": {},
   "source": [
    "### Idade\n",
    "Pode-se verificar que a variável referente a idade dos pacientes possui uma distribuição normal, a partir do histograma. Os dados observados estão de acordo com o Protocolo Clínico e Diretrizes Terapêuticas (PCDT) do Ministério da Saúde de Artrite Reumatóide, onde é frisado que \"a AR é mais frequente em mulheres e na faixa etária de 30 a 50 anos, com pico de incidência na quinta década de vida\"."
   ]
  },
  {
   "cell_type": "code",
   "execution_count": 382,
   "metadata": {},
   "outputs": [
    {
     "data": {
      "image/png": "[encoded data removed]",
      "text/plain": [
       "<Figure size 640x480 with 1 Axes>"
      ]
     },
     "metadata": {},
     "output_type": "display_data"
    },
    {
     "name": "stdout",
     "output_type": "stream",
     "text": [
      "count   99354.000\n",
      "mean       55.666\n",
      "std        13.675\n",
      "min         0.000\n",
      "25%        47.000\n",
      "50%        56.000\n",
      "75%        65.000\n",
      "max       120.000\n",
      "Name: idade_paciente_inicio_tto, dtype: float64\n"
     ]
    }
   ],
   "source": [
    "# Criar o histograma com o KDE\n",
    "sns.histplot(data=df, x='idade_paciente_inicio_tto', kde=True)\n",
    "\n",
    "# Mostrar o gráfico\n",
    "ax = plt.gca()\n",
    "ax.set_title('Histograma de idade com curva KDE')\n",
    "plt.show()\n",
    "\n",
    "# Apresentar estatísticas sobre a coluna\n",
    "print(df['idade_paciente_inicio_tto'].describe())"
   ]
  },
  {
   "attachments": {},
   "cell_type": "markdown",
   "metadata": {},
   "source": [
    "A idade mínima localizada foi de zero anos e por isso foi plotado o blox plot para verificar a ocorrência de outliers. Como o Ministério da Saúde possui um PCDT específico para Artrite Reumatóide Juvenil, os registros abaixo do primeiro quartil foram considerados outliers. Como a Artrite Reumatóide é uma doença crônica, os registros caracterizados como outliers acima do terceiro quartil não foram excluídos.   "
   ]
  },
  {
   "cell_type": "code",
   "execution_count": 383,
   "metadata": {},
   "outputs": [
    {
     "name": "stdout",
     "output_type": "stream",
     "text": [
      "Total de outliers inferiores:  694\n"
     ]
    },
    {
     "data": {
      "image/png": "[encoded data removed]",
      "text/plain": [
       "<Figure size 1500x300 with 1 Axes>"
      ]
     },
     "metadata": {},
     "output_type": "display_data"
    }
   ],
   "source": [
    "# Plotar boxplot\n",
    "fig, ax = plt.subplots(figsize=(15,3))\n",
    "ax.set_title('Bloxplot idade paciente')\n",
    "ax.boxplot(df['idade_paciente_inicio_tto'], vert=False)\n",
    "\n",
    "# Obter o intervalo interquartil\n",
    "Q1 = df['idade_paciente_inicio_tto'].quantile(0.25)\n",
    "Q3 = df['idade_paciente_inicio_tto'].quantile(0.75)\n",
    "IQR = Q3 - Q1\n",
    "\n",
    "# Definir o limite inferior de outlier\n",
    "limite_inferior = Q1 - (1.5 * IQR)\n",
    "\n",
    "# Contar a quantidade de outliers inferiores\n",
    "count = df[df['idade_paciente_inicio_tto'] < limite_inferior]['idade_paciente_inicio_tto'].count()\n",
    "\n",
    "# Mostrar a quantidade de outliers inferiores\n",
    "print(\"Total de outliers inferiores: \", count) "
   ]
  },
  {
   "attachments": {},
   "cell_type": "markdown",
   "metadata": {},
   "source": [
    "Paralelamente, foi realizada a avaliação de outliers por meio do algoritmo `KNN`, que combinou outras varáveis para a definição dos outliers. Como resultado, apenas 14 registros foram classificados como outliers."
   ]
  },
  {
   "cell_type": "code",
   "execution_count": 384,
   "metadata": {},
   "outputs": [
    {
     "name": "stdout",
     "output_type": "stream",
     "text": [
      "Total de outliers KNN: 15\n"
     ]
    }
   ],
   "source": [
    "# Instanciar o modelo KNN\n",
    "preditor = KNN()\n",
    "\n",
    "# Selecioanr a coluna de interesse\n",
    "df_sel = df[['idade_paciente_inicio_tto']]\n",
    "\n",
    "# Treinar o modelo\n",
    "preditor.fit(df_sel)\n",
    "outliers = preditor.labels_\n",
    "\n",
    "# Contar os outliers\n",
    "resultado = np.unique(outliers, return_counts=True)\n",
    "print(\"Total de outliers KNN:\", resultado[1][1])"
   ]
  },
  {
   "attachments": {},
   "cell_type": "markdown",
   "metadata": {},
   "source": [
    "A última avaliação realizada foi levando em consideração a UF de atendimento do paciente, pois um determinado estado pode estar informando o SIA/SUS de forma incorreta ou possuir um atendimento diferenciado para a Artrite Reumatóide. Contudo, foi verificado que praticamente todas as UF atenderam pacientes com menos de 20 anos."
   ]
  },
  {
   "cell_type": "code",
   "execution_count": 385,
   "metadata": {},
   "outputs": [
    {
     "data": {
      "text/plain": [
       "<Figure size 1500x800 with 0 Axes>"
      ]
     },
     "metadata": {},
     "output_type": "display_data"
    },
    {
     "data": {
      "image/png": "[encoded data removed]",
      "text/plain": [
       "<Figure size 1000x500 with 1 Axes>"
      ]
     },
     "metadata": {},
     "output_type": "display_data"
    }
   ],
   "source": [
    "# Criar o boxplott\n",
    "plt.figure(figsize=(15, 8))\n",
    "sns.catplot(data=df, x='sigla_uf_dispensacao', y='idade_paciente_inicio_tto', kind='box', height=5, aspect=2)\n",
    "\n",
    "# Plotar o gráfico\n",
    "plt.axhline(y=20, linestyle='--', color='red')\n",
    "plt.title(\"Bloxplot idade paciente por UF\")\n",
    "plt.xlabel('Unidade da Federação')\n",
    "plt.ylabel('Idade atendimento')\n",
    "plt.tight_layout()\n",
    "plt.show()"
   ]
  },
  {
   "attachments": {},
   "cell_type": "markdown",
   "metadata": {},
   "source": [
    "Tendo em vista as características do atributo idade, principalmente ao fato do Ministério da Saúde possuir um PCDT de Artrite Reumatóide Juvenil, será levado em consideração a classificação de outlier obtida pelo bloxplot (diferença entre o primeiro e terceiro quartil multiplicado por 1,5).   \n",
    "Esses registros foram excluídos do dataframe."
   ]
  },
  {
   "cell_type": "code",
   "execution_count": 386,
   "metadata": {},
   "outputs": [
    {
     "name": "stdout",
     "output_type": "stream",
     "text": [
      "Registros antes da exclusão: 99354\n",
      "Registros após a exclusão: 98660\n",
      "Registros excluídos: 694\n"
     ]
    },
    {
     "data": {
      "image/png": "[encoded data removed]",
      "text/plain": [
       "<Figure size 1500x300 with 1 Axes>"
      ]
     },
     "metadata": {},
     "output_type": "display_data"
    }
   ],
   "source": [
    "# Verificar a quantidade de registros antes da exclusão\n",
    "qtd_registros_anterior = df.shape[0]\n",
    "\n",
    "# Excluir do dataframe os registros considerados como outliers\n",
    "df = df.loc[df['idade_paciente_inicio_tto'] >= limite_inferior]\n",
    "\n",
    "# Plotar o boxplot atualizado\n",
    "fig, ax = plt.subplots(figsize=(15,3))\n",
    "ax.set_title('Bloxplot idade paciente')\n",
    "ax.boxplot(df['idade_paciente_inicio_tto'], vert=False)\n",
    "\n",
    "# Confirmar a exclusão\n",
    "print(f'Registros antes da exclusão: {qtd_registros_anterior}')\n",
    "print(f'Registros após a exclusão: {df.shape[0]}')\n",
    "print(f'Registros excluídos: {qtd_registros_anterior - df.shape[0]}')"
   ]
  },
  {
   "attachments": {},
   "cell_type": "markdown",
   "metadata": {},
   "source": [
    "### Sexo\n",
    "A coluna `sexo_paciente` possui todos os dados válidos, onde 84,85% dos pacientes são do sexo feminino. Os dados observados estão de acordo com o Protocolo Clínico e Diretrizes Terapêuticas (PCDT) do Ministério da Saúde de Artrite Reumatóide, conforme trecho abaixo:    \n",
    "\"A AR é mais frequente em mulheres e na faixa etária de 30 a 50 anos, com pico de incidência na quinta década de vida\""
   ]
  },
  {
   "cell_type": "code",
   "execution_count": 387,
   "metadata": {},
   "outputs": [
    {
     "name": "stdout",
     "output_type": "stream",
     "text": [
      "sexo_paciente\n",
      "   Registros  Porcentagem\n",
      "F      83716       84.850\n",
      "M      14944       15.150\n"
     ]
    }
   ],
   "source": [
    "# Contar os registros distintos e porcentagem \n",
    "count_percent('sexo_paciente')"
   ]
  },
  {
   "attachments": {},
   "cell_type": "markdown",
   "metadata": {},
   "source": [
    "### Pirâmide etária"
   ]
  },
  {
   "cell_type": "code",
   "execution_count": 13,
   "metadata": {},
   "outputs": [
    {
     "data": {
      "application/vnd.plotly.v1+json": {
       "config": {
        "plotlyServerURL": "https://plot.ly"
       },
       "data": [
        {
         "name": "Homens",
         "orientation": "h",
         "type": "bar",
         "x": [
          -8,
          -20,
          -40,
          -118,
          -254,
          -319,
          -501,
          -783,
          -1173,
          -1476,
          -1911,
          -2074,
          -2056,
          -1839,
          -1288,
          -737,
          -372,
          -114,
          -15,
          -3,
          0,
          0,
          0,
          -4
         ],
         "y": [
          "(0, 5]",
          "(5, 10]",
          "(10, 15]",
          "(15, 20]",
          "(20, 25]",
          "(25, 30]",
          "(30, 35]",
          "(35, 40]",
          "(40, 45]",
          "(45, 50]",
          "(50, 55]",
          "(55, 60]",
          "(60, 65]",
          "(65, 70]",
          "(70, 75]",
          "(75, 80]",
          "(80, 85]",
          "(85, 90]",
          "(90, 95]",
          "(95, 100]",
          "(100, 105]",
          "(105, 110]",
          "(110, 115]",
          "(115, 120]"
         ]
        },
        {
         "name": "Mulheres",
         "orientation": "h",
         "type": "bar",
         "x": [
          30,
          35,
          90,
          488,
          1058,
          1739,
          2902,
          5116,
          7001,
          9645,
          12752,
          12591,
          11251,
          8641,
          5749,
          3126,
          1402,
          446,
          99,
          10,
          0,
          2,
          1,
          42
         ],
         "y": [
          "(0, 5]",
          "(5, 10]",
          "(10, 15]",
          "(15, 20]",
          "(20, 25]",
          "(25, 30]",
          "(30, 35]",
          "(35, 40]",
          "(40, 45]",
          "(45, 50]",
          "(50, 55]",
          "(55, 60]",
          "(60, 65]",
          "(65, 70]",
          "(70, 75]",
          "(75, 80]",
          "(80, 85]",
          "(85, 90]",
          "(90, 95]",
          "(95, 100]",
          "(100, 105]",
          "(105, 110]",
          "(110, 115]",
          "(115, 120]"
         ]
        }
       ],
       "layout": {
        "bargap": 0,
        "barmode": "relative",
        "height": 400,
        "margin": {
         "b": 20,
         "l": 10,
         "r": 10,
         "t": 50
        },
        "template": {
         "data": {
          "bar": [
           {
            "error_x": {
             "color": "#2a3f5f"
            },
            "error_y": {
             "color": "#2a3f5f"
            },
            "marker": {
             "line": {
              "color": "#E5ECF6",
              "width": 0.5
             },
             "pattern": {
              "fillmode": "overlay",
              "size": 10,
              "solidity": 0.2
             }
            },
            "type": "bar"
           }
          ],
          "barpolar": [
           {
            "marker": {
             "line": {
              "color": "#E5ECF6",
              "width": 0.5
             },
             "pattern": {
              "fillmode": "overlay",
              "size": 10,
              "solidity": 0.2
             }
            },
            "type": "barpolar"
           }
          ],
          "carpet": [
           {
            "aaxis": {
             "endlinecolor": "#2a3f5f",
             "gridcolor": "white",
             "linecolor": "white",
             "minorgridcolor": "white",
             "startlinecolor": "#2a3f5f"
            },
            "baxis": {
             "endlinecolor": "#2a3f5f",
             "gridcolor": "white",
             "linecolor": "white",
             "minorgridcolor": "white",
             "startlinecolor": "#2a3f5f"
            },
            "type": "carpet"
           }
          ],
          "choropleth": [
           {
            "colorbar": {
             "outlinewidth": 0,
             "ticks": ""
            },
            "type": "choropleth"
           }
          ],
          "contour": [
           {
            "colorbar": {
             "outlinewidth": 0,
             "ticks": ""
            },
            "colorscale": [
             [
              0,
              "#0d0887"
             ],
             [
              0.1111111111111111,
              "#46039f"
             ],
             [
              0.2222222222222222,
              "#7201a8"
             ],
             [
              0.3333333333333333,
              "#9c179e"
             ],
             [
              0.4444444444444444,
              "#bd3786"
             ],
             [
              0.5555555555555556,
              "#d8576b"
             ],
             [
              0.6666666666666666,
              "#ed7953"
             ],
             [
              0.7777777777777778,
              "#fb9f3a"
             ],
             [
              0.8888888888888888,
              "#fdca26"
             ],
             [
              1,
              "#f0f921"
             ]
            ],
            "type": "contour"
           }
          ],
          "contourcarpet": [
           {
            "colorbar": {
             "outlinewidth": 0,
             "ticks": ""
            },
            "type": "contourcarpet"
           }
          ],
          "heatmap": [
           {
            "colorbar": {
             "outlinewidth": 0,
             "ticks": ""
            },
            "colorscale": [
             [
              0,
              "#0d0887"
             ],
             [
              0.1111111111111111,
              "#46039f"
             ],
             [
              0.2222222222222222,
              "#7201a8"
             ],
             [
              0.3333333333333333,
              "#9c179e"
             ],
             [
              0.4444444444444444,
              "#bd3786"
             ],
             [
              0.5555555555555556,
              "#d8576b"
             ],
             [
              0.6666666666666666,
              "#ed7953"
             ],
             [
              0.7777777777777778,
              "#fb9f3a"
             ],
             [
              0.8888888888888888,
              "#fdca26"
             ],
             [
              1,
              "#f0f921"
             ]
            ],
            "type": "heatmap"
           }
          ],
          "heatmapgl": [
           {
            "colorbar": {
             "outlinewidth": 0,
             "ticks": ""
            },
            "colorscale": [
             [
              0,
              "#0d0887"
             ],
             [
              0.1111111111111111,
              "#46039f"
             ],
             [
              0.2222222222222222,
              "#7201a8"
             ],
             [
              0.3333333333333333,
              "#9c179e"
             ],
             [
              0.4444444444444444,
              "#bd3786"
             ],
             [
              0.5555555555555556,
              "#d8576b"
             ],
             [
              0.6666666666666666,
              "#ed7953"
             ],
             [
              0.7777777777777778,
              "#fb9f3a"
             ],
             [
              0.8888888888888888,
              "#fdca26"
             ],
             [
              1,
              "#f0f921"
             ]
            ],
            "type": "heatmapgl"
           }
          ],
          "histogram": [
           {
            "marker": {
             "pattern": {
              "fillmode": "overlay",
              "size": 10,
              "solidity": 0.2
             }
            },
            "type": "histogram"
           }
          ],
          "histogram2d": [
           {
            "colorbar": {
             "outlinewidth": 0,
             "ticks": ""
            },
            "colorscale": [
             [
              0,
              "#0d0887"
             ],
             [
              0.1111111111111111,
              "#46039f"
             ],
             [
              0.2222222222222222,
              "#7201a8"
             ],
             [
              0.3333333333333333,
              "#9c179e"
             ],
             [
              0.4444444444444444,
              "#bd3786"
             ],
             [
              0.5555555555555556,
              "#d8576b"
             ],
             [
              0.6666666666666666,
              "#ed7953"
             ],
             [
              0.7777777777777778,
              "#fb9f3a"
             ],
             [
              0.8888888888888888,
              "#fdca26"
             ],
             [
              1,
              "#f0f921"
             ]
            ],
            "type": "histogram2d"
           }
          ],
          "histogram2dcontour": [
           {
            "colorbar": {
             "outlinewidth": 0,
             "ticks": ""
            },
            "colorscale": [
             [
              0,
              "#0d0887"
             ],
             [
              0.1111111111111111,
              "#46039f"
             ],
             [
              0.2222222222222222,
              "#7201a8"
             ],
             [
              0.3333333333333333,
              "#9c179e"
             ],
             [
              0.4444444444444444,
              "#bd3786"
             ],
             [
              0.5555555555555556,
              "#d8576b"
             ],
             [
              0.6666666666666666,
              "#ed7953"
             ],
             [
              0.7777777777777778,
              "#fb9f3a"
             ],
             [
              0.8888888888888888,
              "#fdca26"
             ],
             [
              1,
              "#f0f921"
             ]
            ],
            "type": "histogram2dcontour"
           }
          ],
          "mesh3d": [
           {
            "colorbar": {
             "outlinewidth": 0,
             "ticks": ""
            },
            "type": "mesh3d"
           }
          ],
          "parcoords": [
           {
            "line": {
             "colorbar": {
              "outlinewidth": 0,
              "ticks": ""
             }
            },
            "type": "parcoords"
           }
          ],
          "pie": [
           {
            "automargin": true,
            "type": "pie"
           }
          ],
          "scatter": [
           {
            "fillpattern": {
             "fillmode": "overlay",
             "size": 10,
             "solidity": 0.2
            },
            "type": "scatter"
           }
          ],
          "scatter3d": [
           {
            "line": {
             "colorbar": {
              "outlinewidth": 0,
              "ticks": ""
             }
            },
            "marker": {
             "colorbar": {
              "outlinewidth": 0,
              "ticks": ""
             }
            },
            "type": "scatter3d"
           }
          ],
          "scattercarpet": [
           {
            "marker": {
             "colorbar": {
              "outlinewidth": 0,
              "ticks": ""
             }
            },
            "type": "scattercarpet"
           }
          ],
          "scattergeo": [
           {
            "marker": {
             "colorbar": {
              "outlinewidth": 0,
              "ticks": ""
             }
            },
            "type": "scattergeo"
           }
          ],
          "scattergl": [
           {
            "marker": {
             "colorbar": {
              "outlinewidth": 0,
              "ticks": ""
             }
            },
            "type": "scattergl"
           }
          ],
          "scattermapbox": [
           {
            "marker": {
             "colorbar": {
              "outlinewidth": 0,
              "ticks": ""
             }
            },
            "type": "scattermapbox"
           }
          ],
          "scatterpolar": [
           {
            "marker": {
             "colorbar": {
              "outlinewidth": 0,
              "ticks": ""
             }
            },
            "type": "scatterpolar"
           }
          ],
          "scatterpolargl": [
           {
            "marker": {
             "colorbar": {
              "outlinewidth": 0,
              "ticks": ""
             }
            },
            "type": "scatterpolargl"
           }
          ],
          "scatterternary": [
           {
            "marker": {
             "colorbar": {
              "outlinewidth": 0,
              "ticks": ""
             }
            },
            "type": "scatterternary"
           }
          ],
          "surface": [
           {
            "colorbar": {
             "outlinewidth": 0,
             "ticks": ""
            },
            "colorscale": [
             [
              0,
              "#0d0887"
             ],
             [
              0.1111111111111111,
              "#46039f"
             ],
             [
              0.2222222222222222,
              "#7201a8"
             ],
             [
              0.3333333333333333,
              "#9c179e"
             ],
             [
              0.4444444444444444,
              "#bd3786"
             ],
             [
              0.5555555555555556,
              "#d8576b"
             ],
             [
              0.6666666666666666,
              "#ed7953"
             ],
             [
              0.7777777777777778,
              "#fb9f3a"
             ],
             [
              0.8888888888888888,
              "#fdca26"
             ],
             [
              1,
              "#f0f921"
             ]
            ],
            "type": "surface"
           }
          ],
          "table": [
           {
            "cells": {
             "fill": {
              "color": "#EBF0F8"
             },
             "line": {
              "color": "white"
             }
            },
            "header": {
             "fill": {
              "color": "#C8D4E3"
             },
             "line": {
              "color": "white"
             }
            },
            "type": "table"
           }
          ]
         },
         "layout": {
          "annotationdefaults": {
           "arrowcolor": "#2a3f5f",
           "arrowhead": 0,
           "arrowwidth": 1
          },
          "autotypenumbers": "strict",
          "coloraxis": {
           "colorbar": {
            "outlinewidth": 0,
            "ticks": ""
           }
          },
          "colorscale": {
           "diverging": [
            [
             0,
             "#8e0152"
            ],
            [
             0.1,
             "#c51b7d"
            ],
            [
             0.2,
             "#de77ae"
            ],
            [
             0.3,
             "#f1b6da"
            ],
            [
             0.4,
             "#fde0ef"
            ],
            [
             0.5,
             "#f7f7f7"
            ],
            [
             0.6,
             "#e6f5d0"
            ],
            [
             0.7,
             "#b8e186"
            ],
            [
             0.8,
             "#7fbc41"
            ],
            [
             0.9,
             "#4d9221"
            ],
            [
             1,
             "#276419"
            ]
           ],
           "sequential": [
            [
             0,
             "#0d0887"
            ],
            [
             0.1111111111111111,
             "#46039f"
            ],
            [
             0.2222222222222222,
             "#7201a8"
            ],
            [
             0.3333333333333333,
             "#9c179e"
            ],
            [
             0.4444444444444444,
             "#bd3786"
            ],
            [
             0.5555555555555556,
             "#d8576b"
            ],
            [
             0.6666666666666666,
             "#ed7953"
            ],
            [
             0.7777777777777778,
             "#fb9f3a"
            ],
            [
             0.8888888888888888,
             "#fdca26"
            ],
            [
             1,
             "#f0f921"
            ]
           ],
           "sequentialminus": [
            [
             0,
             "#0d0887"
            ],
            [
             0.1111111111111111,
             "#46039f"
            ],
            [
             0.2222222222222222,
             "#7201a8"
            ],
            [
             0.3333333333333333,
             "#9c179e"
            ],
            [
             0.4444444444444444,
             "#bd3786"
            ],
            [
             0.5555555555555556,
             "#d8576b"
            ],
            [
             0.6666666666666666,
             "#ed7953"
            ],
            [
             0.7777777777777778,
             "#fb9f3a"
            ],
            [
             0.8888888888888888,
             "#fdca26"
            ],
            [
             1,
             "#f0f921"
            ]
           ]
          },
          "colorway": [
           "#636efa",
           "#EF553B",
           "#00cc96",
           "#ab63fa",
           "#FFA15A",
           "#19d3f3",
           "#FF6692",
           "#B6E880",
           "#FF97FF",
           "#FECB52"
          ],
          "font": {
           "color": "#2a3f5f"
          },
          "geo": {
           "bgcolor": "white",
           "lakecolor": "white",
           "landcolor": "#E5ECF6",
           "showlakes": true,
           "showland": true,
           "subunitcolor": "white"
          },
          "hoverlabel": {
           "align": "left"
          },
          "hovermode": "closest",
          "mapbox": {
           "style": "light"
          },
          "paper_bgcolor": "white",
          "plot_bgcolor": "#E5ECF6",
          "polar": {
           "angularaxis": {
            "gridcolor": "white",
            "linecolor": "white",
            "ticks": ""
           },
           "bgcolor": "#E5ECF6",
           "radialaxis": {
            "gridcolor": "white",
            "linecolor": "white",
            "ticks": ""
           }
          },
          "scene": {
           "xaxis": {
            "backgroundcolor": "#E5ECF6",
            "gridcolor": "white",
            "gridwidth": 2,
            "linecolor": "white",
            "showbackground": true,
            "ticks": "",
            "zerolinecolor": "white"
           },
           "yaxis": {
            "backgroundcolor": "#E5ECF6",
            "gridcolor": "white",
            "gridwidth": 2,
            "linecolor": "white",
            "showbackground": true,
            "ticks": "",
            "zerolinecolor": "white"
           },
           "zaxis": {
            "backgroundcolor": "#E5ECF6",
            "gridcolor": "white",
            "gridwidth": 2,
            "linecolor": "white",
            "showbackground": true,
            "ticks": "",
            "zerolinecolor": "white"
           }
          },
          "shapedefaults": {
           "line": {
            "color": "#2a3f5f"
           }
          },
          "ternary": {
           "aaxis": {
            "gridcolor": "white",
            "linecolor": "white",
            "ticks": ""
           },
           "baxis": {
            "gridcolor": "white",
            "linecolor": "white",
            "ticks": ""
           },
           "bgcolor": "#E5ECF6",
           "caxis": {
            "gridcolor": "white",
            "linecolor": "white",
            "ticks": ""
           }
          },
          "title": {
           "x": 0.05
          },
          "xaxis": {
           "automargin": true,
           "gridcolor": "white",
           "linecolor": "white",
           "ticks": "",
           "title": {
            "standoff": 15
           },
           "zerolinecolor": "white",
           "zerolinewidth": 2
          },
          "yaxis": {
           "automargin": true,
           "gridcolor": "white",
           "linecolor": "white",
           "ticks": "",
           "title": {
            "standoff": 15
           },
           "zerolinecolor": "white",
           "zerolinewidth": 2
          }
         }
        },
        "title": {
         "text": "Pirâmide etária",
         "x": 0.5
        },
        "width": 800
       }
      }
     },
     "metadata": {},
     "output_type": "display_data"
    }
   ],
   "source": [
    "# Definir as faixas de idade\n",
    "faixa_idade = range(0, 121, 5)\n",
    "\n",
    "# Criar os grupos de faixas de idade\n",
    "df['faixa_idade'] = pd.cut(df['idade_paciente_inicio_tto'], bins=faixa_idade)\n",
    "\n",
    "# Calcular a contagem de pacientes por faixa de idade e sexo\n",
    "df_contagem = df.groupby(['faixa_idade', 'sexo_paciente']).size().unstack()\n",
    "\n",
    "# Criar um novo DataFrame\n",
    "df_novo = pd.DataFrame({\n",
    "    'faixa_idade': df_contagem.index.astype(str), \n",
    "    'count_feminino': df_contagem['F'],\n",
    "    'count_masculino': df_contagem['M']\n",
    "})\n",
    "\n",
    "# Excluir a coluna adicionada no dataframe\n",
    "df = df.drop(['faixa_idade'], axis=1)\n",
    "\n",
    "# Multiplicar os valores da segunda coluna por -1\n",
    "df_novo['count_masculino'] *= -1\n",
    "\n",
    "# Instânciar a figura\n",
    "fig = gp.Figure()\n",
    "  \n",
    "# Adicionar os dados dos sexos\n",
    "fig.add_trace(gp.Bar(y= df_novo['faixa_idade'], x = df_novo['count_masculino'], name = 'Homens', orientation = 'h'))\n",
    "fig.add_trace(gp.Bar(y = df_novo['faixa_idade'], x = df_novo['count_feminino'], name = 'Mulheres', orientation = 'h'))\n",
    "  \n",
    "# Plotar o gráfico\n",
    "fig.update_layout(barmode = 'relative', bargap = 0.0, width=800, height=400, margin=dict(l=10, r=10, t=50, b=20), title={'text':'Pirâmide etária', 'x': 0.5}) \n",
    "fig.show()\n"
   ]
  },
  {
   "attachments": {},
   "cell_type": "markdown",
   "metadata": {},
   "source": [
    "### Município residência\n",
    "Foi verificado que todos os registros da coluna `municipio_residencia_paciente` possuem valores do tipo numérico e com seis digítos, caracterizando que os valores são válidos com relação ao formato dos dados."
   ]
  },
  {
   "cell_type": "code",
   "execution_count": 389,
   "metadata": {},
   "outputs": [
    {
     "data": {
      "text/plain": [
       "count    98660.000\n",
       "mean    350872.562\n",
       "std      73306.139\n",
       "min     110001.000\n",
       "25%     314810.000\n",
       "50%     353930.000\n",
       "75%     410760.000\n",
       "max     530180.000\n",
       "Name: municipio_residencia_paciente, dtype: float64"
      ]
     },
     "execution_count": 389,
     "metadata": {},
     "output_type": "execute_result"
    }
   ],
   "source": [
    "# Consultar informações do campo\n",
    "df['municipio_residencia_paciente'].describe()"
   ]
  },
  {
   "attachments": {},
   "cell_type": "markdown",
   "metadata": {},
   "source": [
    "Contudo, foi verificado que o sistema SIA/SUS exportou os dados do Distrito Federal contendo mais de um município. "
   ]
  },
  {
   "cell_type": "code",
   "execution_count": 390,
   "metadata": {},
   "outputs": [
    {
     "name": "stdout",
     "output_type": "stream",
     "text": [
      "530040\n",
      "530180\n",
      "530010\n",
      "530140\n",
      "530020\n",
      "530060\n",
      "530070\n",
      "530130\n",
      "530150\n",
      "530090\n",
      "530170\n",
      "530050\n",
      "530160\n"
     ]
    }
   ],
   "source": [
    "# Listar os códigos IBGE distintos do DF\n",
    "municipios_df = df[df['municipio_residencia_paciente'].astype(str).str.startswith('53')]['municipio_residencia_paciente'].unique()\n",
    "for codigo_ibge in municipios_df:\n",
    "    print(codigo_ibge)"
   ]
  },
  {
   "attachments": {},
   "cell_type": "markdown",
   "metadata": {},
   "source": [
    "Para seguir o padrão do IBGE foi necessário transformar os códigos da coluna `municipio_residencia_paciente` que iniciam com `53` para `530010`."
   ]
  },
  {
   "cell_type": "code",
   "execution_count": 18,
   "metadata": {},
   "outputs": [
    {
     "name": "stdout",
     "output_type": "stream",
     "text": [
      "530010\n"
     ]
    }
   ],
   "source": [
    "# Substituir os codigos de municipios iniciados com 53 para 530010\n",
    "df.loc[df['municipio_residencia_paciente'].astype(str).str.startswith('53'), 'municipio_residencia_paciente'] = 530010\n",
    "\n",
    "# Confirmar a atualização\n",
    "municipios_df = df[df['municipio_residencia_paciente'].astype(str).str.startswith('53')]['municipio_residencia_paciente'].unique()\n",
    "for codigo_ibge in municipios_df:\n",
    "    print(codigo_ibge)\n"
   ]
  },
  {
   "attachments": {},
   "cell_type": "markdown",
   "metadata": {},
   "source": [
    "### População município residência\n",
    "Anteriormente, foi verificado que a variável `populacao_residencia_paciente` possui valores nulos, sendo que os valores ausentes serão imputados no pipeline de treinamento dos modelos. Ao avaliar os dados não foram encontrados dados inconsistentes."
   ]
  },
  {
   "cell_type": "code",
   "execution_count": 392,
   "metadata": {},
   "outputs": [
    {
     "data": {
      "text/plain": [
       "count      98087.000\n",
       "mean     1639449.196\n",
       "std      3641869.104\n",
       "min          771.000\n",
       "25%        36298.000\n",
       "50%       158432.000\n",
       "75%       723889.000\n",
       "max     12396372.000\n",
       "Name: populacao_residencia_paciente, dtype: float64"
      ]
     },
     "execution_count": 392,
     "metadata": {},
     "output_type": "execute_result"
    }
   ],
   "source": [
    "# Consultar informações do campo\n",
    "df['populacao_residencia_paciente'].describe()"
   ]
  },
  {
   "cell_type": "code",
   "execution_count": 14,
   "metadata": {},
   "outputs": [
    {
     "data": {
      "image/png": "[encoded data removed]",
      "text/plain": [
       "<Figure size 640x480 with 1 Axes>"
      ]
     },
     "metadata": {},
     "output_type": "display_data"
    }
   ],
   "source": [
    "# Definir os limites dos grupos de população\n",
    "limits = [0, 5000, 10000, 20000, 50000, 100000, 500000, float('inf')]\n",
    "\n",
    "# Criar os rótulos do eixo X\n",
    "labels = ['0-5k', '5k-10k', '10k-20k', '20k-50k', '50k-100k', '100k-500k', 'Mais de 500k']\n",
    "\n",
    "# Criar a coluna de grupos de população\n",
    "df['populacao_grupo'] = pd.cut(df['populacao_residencia_paciente'], bins=limits, labels=labels, right=False)\n",
    "\n",
    "# Agrupar os dados por 'populacao_grupo' e 'nova_terapia' e contar a quantidade de registros\n",
    "grouped_data = df.groupby(['populacao_grupo', 'nova_terapia']).size().unstack()\n",
    "\n",
    "# Excluir a coluna criada\n",
    "df = df.drop(['populacao_grupo'], axis=1)\n",
    "\n",
    "# Plotar o gráfico de barras empilhadas\n",
    "grouped_data.plot.bar(stacked=True)\n",
    "plt.title('Distribuição dos pacientes pela faixa populacional do município de residência')\n",
    "plt.xlabel('Faixa populacional')\n",
    "plt.ylabel('Pacientes')\n",
    "plt.show()"
   ]
  },
  {
   "attachments": {},
   "cell_type": "markdown",
   "metadata": {},
   "source": [
    "### Região residência\n",
    "A região de residência do paciente foi avaliada pela variável `regiao_residencia_paciente` e não foram localizados dados inconsistentes."
   ]
  },
  {
   "cell_type": "code",
   "execution_count": 394,
   "metadata": {},
   "outputs": [
    {
     "name": "stdout",
     "output_type": "stream",
     "text": [
      "              Registros  Porcentagem\n",
      "Sudeste           49761       50.440\n",
      "Nordeste          31209       31.630\n",
      "Norte              8826        8.950\n",
      "Sul                4779        4.840\n",
      "Centro-Oeste       4085        4.140\n"
     ]
    }
   ],
   "source": [
    "# Obter os valores distintos e a contagem\n",
    "valores_distintos = df['regiao_residencia_paciente'].value_counts()\n",
    "\n",
    "# Calcular a porcentagem de cada valor\n",
    "porcentagem = round(valores_distintos / len(df) * 100, 2)\n",
    "\n",
    "# Criar um novo dataframe com as informações obtidas\n",
    "df_count = pd.DataFrame({'Registros': valores_distintos, 'Porcentagem': porcentagem})\n",
    "\n",
    "# Exibir as contagens e porcentagens\n",
    "print(df_count)"
   ]
  },
  {
   "attachments": {},
   "cell_type": "markdown",
   "metadata": {},
   "source": [
    "### Residência Amazônia legal e Semiárido\n",
    "Anteriormente, foi verificado que as variáveis e `residencia_amazonia_legal` e `residencia_semiarido` possuem valores nulos, sendo que os valores ausentes serão imputados no pipeline de treinamento dos modelos. Ao avaliar os dados não foram encontrados dados inconsistentes."
   ]
  },
  {
   "cell_type": "code",
   "execution_count": 395,
   "metadata": {},
   "outputs": [
    {
     "name": "stdout",
     "output_type": "stream",
     "text": [
      "residencia_amazonia_legal\n",
      "       Registros  Porcentagem\n",
      "False      93706       94.980\n",
      "True        4381        4.440\n",
      "residencia_semiarido\n",
      "       Registros  Porcentagem\n",
      "False      90103       91.330\n",
      "True        7984        8.090\n"
     ]
    }
   ],
   "source": [
    "# Contar os registros distintos e porcentagem \n",
    "count_percent('residencia_amazonia_legal')\n",
    "count_percent('residencia_semiarido')"
   ]
  },
  {
   "attachments": {},
   "cell_type": "markdown",
   "metadata": {},
   "source": [
    "### Estabelecimentos saúde e beneficiários de plano de saúde\n",
    "Foi verificado que as variáveis `estabelecimentos_saude_percap_uf` e `beneficiarios_plano_saude_percap_uf` não possuem valor discrepante ou incorreto."
   ]
  },
  {
   "cell_type": "code",
   "execution_count": 396,
   "metadata": {},
   "outputs": [
    {
     "name": "stdout",
     "output_type": "stream",
     "text": [
      "Estabelecimentos de saúde per capita UF\n"
     ]
    },
    {
     "data": {
      "text/plain": [
       "count   98660.000\n",
       "mean        0.002\n",
       "std         0.000\n",
       "min         0.001\n",
       "25%         0.001\n",
       "50%         0.002\n",
       "75%         0.002\n",
       "max         0.007\n",
       "Name: estabelecimentos_saude_percap_uf, dtype: float64"
      ]
     },
     "execution_count": 396,
     "metadata": {},
     "output_type": "execute_result"
    }
   ],
   "source": [
    "# Apresentar as informações do campo\n",
    "print('Estabelecimentos de saúde per capita UF')\n",
    "df['estabelecimentos_saude_percap_uf'].describe()"
   ]
  },
  {
   "cell_type": "code",
   "execution_count": 397,
   "metadata": {},
   "outputs": [
    {
     "name": "stdout",
     "output_type": "stream",
     "text": [
      "Beneficiários de plano de saúde per capita UF\n"
     ]
    },
    {
     "data": {
      "text/plain": [
       "count   98660.000\n",
       "mean        0.087\n",
       "std         0.041\n",
       "min         0.015\n",
       "25%         0.058\n",
       "50%         0.093\n",
       "75%         0.108\n",
       "max         0.232\n",
       "Name: beneficiarios_plano_saude_percap_uf, dtype: float64"
      ]
     },
     "execution_count": 397,
     "metadata": {},
     "output_type": "execute_result"
    }
   ],
   "source": [
    "# Apresentar as informações do campo\n",
    "print('Beneficiários de plano de saúde per capita UF')\n",
    "df['beneficiarios_plano_saude_percap_uf'].describe()"
   ]
  },
  {
   "attachments": {},
   "cell_type": "markdown",
   "metadata": {},
   "source": [
    "### IDHM, índice de Gini e renda per capita domiciliar\n",
    "Anteriormente, foi verificado que as variáveis e `idhm_residencia_paciente` e `indice_gini` possuem valores nulos, sendo que os valores ausentes serão imputados no pipeline de treinamento dos modelos. A coluna `renda_domiciliar_percap` não possui valor nulo. Ao avaliar os dados não foram encontrados dados inconsistentes."
   ]
  },
  {
   "cell_type": "code",
   "execution_count": 398,
   "metadata": {},
   "outputs": [
    {
     "name": "stdout",
     "output_type": "stream",
     "text": [
      "IDHM\n"
     ]
    },
    {
     "data": {
      "text/plain": [
       "count   98064.000\n",
       "mean        0.746\n",
       "std         0.060\n",
       "min         0.453\n",
       "25%         0.718\n",
       "50%         0.757\n",
       "75%         0.797\n",
       "max         0.862\n",
       "Name: idhm_residencia_paciente, dtype: float64"
      ]
     },
     "execution_count": 398,
     "metadata": {},
     "output_type": "execute_result"
    }
   ],
   "source": [
    "# Apresentar as informaçõe\n",
    "print('IDHM')\n",
    "df['idhm_residencia_paciente'].describe()"
   ]
  },
  {
   "cell_type": "code",
   "execution_count": 399,
   "metadata": {},
   "outputs": [
    {
     "name": "stdout",
     "output_type": "stream",
     "text": [
      "Índice de Gini\n"
     ]
    },
    {
     "data": {
      "text/plain": [
       "count   98087.000\n",
       "mean        0.540\n",
       "std         0.045\n",
       "min         0.424\n",
       "25%         0.516\n",
       "50%         0.562\n",
       "75%         0.568\n",
       "max         0.618\n",
       "Name: indice_gini, dtype: float64"
      ]
     },
     "execution_count": 399,
     "metadata": {},
     "output_type": "execute_result"
    }
   ],
   "source": [
    "# Apresentar as informações do campo\n",
    "print('Índice de Gini')\n",
    "df['indice_gini'].describe()"
   ]
  },
  {
   "cell_type": "code",
   "execution_count": 400,
   "metadata": {},
   "outputs": [
    {
     "name": "stdout",
     "output_type": "stream",
     "text": [
      "Renda per capita UF\n"
     ]
    },
    {
     "data": {
      "text/plain": [
       "count   98660.000\n",
       "mean     1053.469\n",
       "std       312.505\n",
       "min       639.000\n",
       "25%       872.000\n",
       "50%       922.000\n",
       "75%      1100.000\n",
       "max      2480.000\n",
       "Name: renda_domiciliar_percap, dtype: float64"
      ]
     },
     "execution_count": 400,
     "metadata": {},
     "output_type": "execute_result"
    }
   ],
   "source": [
    "# Apresentar as informações do campo\n",
    "print('Renda per capita UF')\n",
    "df['renda_domiciliar_percap'].describe()"
   ]
  },
  {
   "attachments": {},
   "cell_type": "markdown",
   "metadata": {},
   "source": [
    "### Município e UF dispensação\n",
    "Foi verificado que as variáveis `codigo_municipio_dispensacao` e `sigla_uf_dispensacao` não possuem valor discrepante ou incorreto. Ao contrário da variável `municipio_residencia_paciente`, o DF não possui códigos IBGE inválidos na coluna `codigo_municipio_dispensacao`."
   ]
  },
  {
   "cell_type": "code",
   "execution_count": 401,
   "metadata": {},
   "outputs": [
    {
     "name": "stdout",
     "output_type": "stream",
     "text": [
      "Código município dispensação\n"
     ]
    },
    {
     "data": {
      "text/plain": [
       "count    98660.000\n",
       "mean    351015.842\n",
       "std      73238.527\n",
       "min     110002.000\n",
       "25%     315250.000\n",
       "50%     354910.000\n",
       "75%     410690.000\n",
       "max     530010.000\n",
       "Name: codigo_municipio_dispensacao, dtype: float64"
      ]
     },
     "execution_count": 401,
     "metadata": {},
     "output_type": "execute_result"
    }
   ],
   "source": [
    "# Apresentar as informações do campo\n",
    "print('Código município dispensação')\n",
    "df['codigo_municipio_dispensacao'].describe()"
   ]
  },
  {
   "cell_type": "code",
   "execution_count": 402,
   "metadata": {},
   "outputs": [
    {
     "name": "stdout",
     "output_type": "stream",
     "text": [
      "sigla_uf_dispensacao\n",
      "    Registros  Porcentagem\n",
      "SP      35895       36.380\n",
      "PR      16705       16.930\n",
      "MG       9195        9.320\n",
      "RS       6219        6.300\n",
      "CE       3940        3.990\n",
      "SC       3777        3.830\n",
      "BA       3716        3.770\n",
      "ES       2785        2.820\n",
      "PB       2398        2.430\n",
      "RJ       1886        1.910\n",
      "PE       1734        1.760\n",
      "DF       1715        1.740\n",
      "PA       1099        1.110\n",
      "MA        975        0.990\n",
      "RN        905        0.920\n",
      "PI        877        0.890\n",
      "MS        840        0.850\n",
      "GO        805        0.820\n",
      "MT        725        0.730\n",
      "AM        610        0.620\n",
      "SE        588        0.600\n",
      "AP        276        0.280\n",
      "RO        257        0.260\n",
      "AL        248        0.250\n",
      "AC        206        0.210\n",
      "TO        159        0.160\n",
      "RR        125        0.130\n"
     ]
    }
   ],
   "source": [
    "# Apresentar as informações do campo\n",
    "count_percent('sigla_uf_dispensacao')"
   ]
  },
  {
   "attachments": {},
   "cell_type": "markdown",
   "metadata": {},
   "source": [
    "### CNES solicitante e dispensador\n",
    "Foi verificado que os dados da variável `cnes_dispensacao` não possuem problema. "
   ]
  },
  {
   "cell_type": "code",
   "execution_count": 403,
   "metadata": {},
   "outputs": [
    {
     "name": "stdout",
     "output_type": "stream",
     "text": [
      "Código município dispensação\n"
     ]
    },
    {
     "data": {
      "text/plain": [
       "count     98660.000\n",
       "mean    3663146.823\n",
       "std     1897172.260\n",
       "min        3441.000\n",
       "25%     2531496.000\n",
       "50%     2784432.000\n",
       "75%     4053400.000\n",
       "max     9993827.000\n",
       "Name: cnes_dispensacao, dtype: float64"
      ]
     },
     "execution_count": 403,
     "metadata": {},
     "output_type": "execute_result"
    }
   ],
   "source": [
    "# Apresentar as informações do campo\n",
    "print('Código município dispensação')\n",
    "df['cnes_dispensacao'].describe()"
   ]
  },
  {
   "cell_type": "code",
   "execution_count": 404,
   "metadata": {},
   "outputs": [
    {
     "name": "stdout",
     "output_type": "stream",
     "text": [
      "Código município dispensação\n"
     ]
    },
    {
     "data": {
      "text/plain": [
       "count     98660.000\n",
       "mean    1325431.149\n",
       "std     2416237.582\n",
       "min           0.000\n",
       "25%           0.000\n",
       "50%           0.000\n",
       "75%     2315149.000\n",
       "max     9997296.000\n",
       "Name: cnes_solicitante, dtype: float64"
      ]
     },
     "execution_count": 404,
     "metadata": {},
     "output_type": "execute_result"
    }
   ],
   "source": [
    "# Apresentar as informações do campo\n",
    "print('Código município dispensação')\n",
    "df['cnes_solicitante'].describe()"
   ]
  },
  {
   "attachments": {},
   "cell_type": "markdown",
   "metadata": {},
   "source": [
    "Mais de dois terços dos registros da variável `cnes_solicitante` estão preenchidos com o valor zerado. Diante da grande quatidade de registros problemáticos a coluna `cnes_solicitante` foi excluída do dataframe."
   ]
  },
  {
   "cell_type": "code",
   "execution_count": 15,
   "metadata": {},
   "outputs": [
    {
     "name": "stdout",
     "output_type": "stream",
     "text": [
      "Registros igual a 0: 68147 (68.59%)\n",
      "Registros diferente de 0: 31095 (31.3%)\n"
     ]
    }
   ],
   "source": [
    "# Contar os registros igual a 0 e distintos\n",
    "contagem_zero = len(df[df['cnes_solicitante'] == 0])\n",
    "contagem_total_distinto = len(df[df['cnes_solicitante'] != 0].drop_duplicates())\n",
    "\n",
    "# Calcular a porcentagem\n",
    "porcentagem_zero = contagem_zero / len(df) * 100\n",
    "porcentagem_total_distinto = contagem_total_distinto / len(df) * 100\n",
    "\n",
    "# Apresentar os valores\n",
    "print(f\"Registros igual a 0: {contagem_zero} ({round(porcentagem_zero,2)}%)\")\n",
    "print(f\"Registros diferente de 0: {contagem_total_distinto} ({round(porcentagem_total_distinto,2)}%)\")\n"
   ]
  },
  {
   "cell_type": "code",
   "execution_count": 16,
   "metadata": {},
   "outputs": [
    {
     "name": "stdout",
     "output_type": "stream",
     "text": [
      "Colunas antes da exclusão: 58\n",
      "Colunas após a exclusão: 57\n",
      "Colunas excluídas: 1\n"
     ]
    }
   ],
   "source": [
    "# Verificar a quantidade de colunas antes da exclusão\n",
    "qtd_col_anterior = df.shape[1]\n",
    "\n",
    "# Excluir as colunas\n",
    "df = df.drop(['cnes_solicitante'], axis=1)\n",
    "\n",
    "# Confirmar a exclusão\n",
    "print(f'Colunas antes da exclusão: {qtd_col_anterior}')\n",
    "print(f'Colunas após a exclusão: {df.shape[1]}')\n",
    "print(f'Colunas excluídas: {qtd_col_anterior - df.shape[1]}')"
   ]
  },
  {
   "attachments": {},
   "cell_type": "markdown",
   "metadata": {},
   "source": [
    "### Variáveis booleanas de tratamento\n",
    "As variáveis booleanas que indicam se um paciente realizou determinado tratamento foram avaliadas para identificar se possuem algum valor diferente de `True` ou `False`, onde não foram encontrados registros com problemas."
   ]
  },
  {
   "cell_type": "code",
   "execution_count": 407,
   "metadata": {},
   "outputs": [
    {
     "name": "stdout",
     "output_type": "stream",
     "text": [
      "uso_leflunomida\n",
      "       Registros  Porcentagem\n",
      "True       58227       59.020\n",
      "False      40433       40.980\n",
      "uso_hidroxicloroquina\n",
      "       Registros  Porcentagem\n",
      "False      68215       69.140\n",
      "True       30445       30.860\n",
      "uso_cloroquina\n",
      "       Registros  Porcentagem\n",
      "False      98416       99.750\n",
      "True         244        0.250\n",
      "uso_metotrexato\n",
      "       Registros  Porcentagem\n",
      "True       50427       51.110\n",
      "False      48233       48.890\n",
      "uso_sulfassalazina\n",
      "       Registros  Porcentagem\n",
      "False      94419       95.700\n",
      "True        4241        4.300\n",
      "uso_azatioprina\n",
      "       Registros  Porcentagem\n",
      "False      96798       98.110\n",
      "True        1862        1.890\n",
      "uso_ciclosporina\n",
      "       Registros  Porcentagem\n",
      "False      98463       99.800\n",
      "True         197        0.200\n",
      "uso_ciclofosfamida\n",
      "       Registros  Porcentagem\n",
      "False      98660      100.000\n",
      "uso_mtx_hcq\n",
      "       Registros  Porcentagem\n",
      "False      86597       87.770\n",
      "True       12063       12.230\n",
      "uso_mtx_ssz\n",
      "       Registros  Porcentagem\n",
      "False      97373       98.700\n",
      "True        1287        1.300\n",
      "uso_ssz_hcq\n",
      "       Registros  Porcentagem\n",
      "False      97489       98.810\n",
      "True        1171        1.190\n",
      "uso_lef_mtx\n",
      "       Registros  Porcentagem\n",
      "False      74221       75.230\n",
      "True       24439       24.770\n",
      "uso_lef_hcq\n",
      "       Registros  Porcentagem\n",
      "False      92057       93.310\n",
      "True        6603        6.690\n",
      "uso_naproxeno\n",
      "       Registros  Porcentagem\n",
      "False      97570       98.900\n",
      "True        1090        1.100\n",
      "uso_lef_ssz\n",
      "       Registros  Porcentagem\n",
      "False      97744       99.070\n",
      "True         916        0.930\n",
      "uso_mtx_ssz_hcq\n",
      "       Registros  Porcentagem\n",
      "False      98270       99.600\n",
      "True         390        0.400\n"
     ]
    }
   ],
   "source": [
    "# Contar os registros distintos e porcentagem \n",
    "count_percent('uso_leflunomida')\n",
    "count_percent('uso_hidroxicloroquina')\n",
    "count_percent('uso_cloroquina')\n",
    "count_percent('uso_metotrexato')\n",
    "count_percent('uso_sulfassalazina')\n",
    "count_percent('uso_azatioprina')\n",
    "count_percent('uso_ciclosporina')\n",
    "count_percent('uso_ciclofosfamida')\n",
    "count_percent('uso_mtx_hcq')\n",
    "count_percent('uso_mtx_ssz')\n",
    "count_percent('uso_ssz_hcq')\n",
    "count_percent('uso_lef_mtx')\n",
    "count_percent('uso_lef_hcq')\n",
    "count_percent('uso_naproxeno')\n",
    "count_percent('uso_lef_ssz')\n",
    "count_percent('uso_mtx_ssz_hcq')"
   ]
  },
  {
   "attachments": {},
   "cell_type": "markdown",
   "metadata": {},
   "source": [
    "Adicionalmente, foi plotado um gráfico de barras empilhadas para visualização da porcentagem de adoção de cada terapia."
   ]
  },
  {
   "cell_type": "code",
   "execution_count": 408,
   "metadata": {},
   "outputs": [
    {
     "data": {
      "image/png": "[encoded data removed]",
      "text/plain": [
       "<Figure size 640x480 with 1 Axes>"
      ]
     },
     "metadata": {},
     "output_type": "display_data"
    }
   ],
   "source": [
    "# Contar os valores\n",
    "colunas = ['uso_leflunomida', 'uso_hidroxicloroquina', 'uso_cloroquina', 'uso_metotrexato', 'uso_sulfassalazina', 'uso_azatioprina', 'uso_ciclosporina', 'uso_ciclofosfamida', 'uso_naproxeno']\n",
    "contagens = df[colunas].apply(lambda x: x.value_counts(normalize=True)).T\n",
    "\n",
    "# Plotar o gráfico\n",
    "contagens.plot.bar(stacked=True, colormap='Pastel1')\n",
    "plt.title('Porcentagem dos pacientes que utilizaram monoterapia')\n",
    "plt.xlabel('Tratamento')\n",
    "plt.ylabel('Porcentagem')\n",
    "plt.legend(title='Valores', loc='upper right', bbox_to_anchor=(1.2, 1.0))\n",
    "plt.show()"
   ]
  },
  {
   "cell_type": "code",
   "execution_count": 409,
   "metadata": {},
   "outputs": [
    {
     "data": {
      "image/png": "[encoded data removed]",
      "text/plain": [
       "<Figure size 640x480 with 1 Axes>"
      ]
     },
     "metadata": {},
     "output_type": "display_data"
    }
   ],
   "source": [
    "# Contar os valores\n",
    "colunas = ['uso_mtx_hcq', 'uso_mtx_ssz', 'uso_ssz_hcq', 'uso_lef_mtx', 'uso_lef_hcq', 'uso_lef_ssz', 'uso_mtx_ssz_hcq']\n",
    "contagens = df[colunas].apply(lambda x: x.value_counts(normalize=True)).T\n",
    "\n",
    "# Plotar o gráfico\n",
    "contagens.plot.bar(stacked=True, colormap='Pastel1')\n",
    "plt.title('Porcentagem dos pacientes que utilizaram politerapia')\n",
    "plt.xlabel('Tratamento')\n",
    "plt.ylabel('Porcentagem')\n",
    "plt.legend(title='Valores', loc='upper right', bbox_to_anchor=(1.2, 1.0))\n",
    "plt.show()"
   ]
  },
  {
   "attachments": {},
   "cell_type": "markdown",
   "metadata": {},
   "source": [
    "### Variáveis numéricas de tratamento\n",
    "Foi verificado se cada coluna do dataset que informa o tempo de tratamento é do tipo inteiro, se possui algum número negativo ou maior que 62, ou se todos os seus registros estão com valores zerados."
   ]
  },
  {
   "cell_type": "code",
   "execution_count": 410,
   "metadata": {},
   "outputs": [
    {
     "name": "stdout",
     "output_type": "stream",
     "text": [
      "A coluna 'meses_tto_leflunomida' não possui dados inconsistentes.\n",
      "A coluna 'meses_tto_hidroxicloroquina' não possui dados inconsistentes.\n",
      "A coluna 'meses_tto_cloroquina' não possui dados inconsistentes.\n",
      "A coluna 'meses_tto_metotrexato' não possui dados inconsistentes.\n",
      "A coluna 'meses_tto_sulfassalazina' não possui dados inconsistentes.\n",
      "A coluna 'meses_tto_azatioprina' não possui dados inconsistentes.\n",
      "A coluna 'meses_tto_ciclosporina' não possui dados inconsistentes.\n",
      "A coluna 'meses_tto_ciclofosfamida' possui todos os seus registros com valores zerados.\n",
      "A coluna 'meses_tto_mtx_hcq' não possui dados inconsistentes.\n",
      "A coluna 'meses_tto_mtx_ssz' não possui dados inconsistentes.\n",
      "A coluna 'meses_tto_ssz_hcq' não possui dados inconsistentes.\n",
      "A coluna 'meses_tto_lef_mtx' não possui dados inconsistentes.\n",
      "A coluna 'meses_tto_lef_hcq' não possui dados inconsistentes.\n",
      "A coluna 'meses_tto_naproxeno' não possui dados inconsistentes.\n",
      "A coluna 'meses_tto_lef_ssz' não possui dados inconsistentes.\n",
      "A coluna 'meses_tto_mtx_ssz_hcq' não possui dados inconsistentes.\n",
      "A coluna 'meses_mmcd' não possui dados inconsistentes.\n",
      "A coluna 'maior_gap_mmcd' não possui dados inconsistentes.\n",
      "A coluna 'meses_tto_mmcd_duplo' não possui dados inconsistentes.\n",
      "A coluna 'meses_tto_mmcd_triplo' não possui dados inconsistentes.\n",
      "A coluna 'meses_total_tto' não possui dados inconsistentes.\n"
     ]
    }
   ],
   "source": [
    "# Função que verifica se a variável possui algum problema\n",
    "def verificar_coluna_meses(coluna):\n",
    "    c = 0\n",
    "\n",
    "    if df[coluna].dtype != np.int64:\n",
    "        c += 1\n",
    "        print(f\"A coluna '{coluna}' não é do tipo inteiro.\")\n",
    "        \n",
    "    if (df[coluna] < 0).any():\n",
    "        c += 1\n",
    "        print(f\"A coluna '{coluna}' contém números negativos.\")\n",
    "        \n",
    "    if (df[coluna] > 63).any():\n",
    "        c += 1\n",
    "        print(f\"A coluna '{coluna}' contém valores acima de 62.\")\n",
    "\n",
    "    if all(df[coluna] == 0):\n",
    "        c += 1\n",
    "        print(f\"A coluna '{coluna}' possui todos os seus registros com valores zerados.\")\n",
    "        \n",
    "    if c == 0:\n",
    "        print(f\"A coluna '{coluna}' não possui dados inconsistentes.\")\n",
    "\n",
    "verificar_coluna_meses('meses_tto_leflunomida')\n",
    "verificar_coluna_meses('meses_tto_hidroxicloroquina')\n",
    "verificar_coluna_meses('meses_tto_cloroquina')\n",
    "verificar_coluna_meses('meses_tto_metotrexato')\n",
    "verificar_coluna_meses('meses_tto_sulfassalazina')\n",
    "verificar_coluna_meses('meses_tto_azatioprina')\n",
    "verificar_coluna_meses('meses_tto_ciclosporina')\n",
    "verificar_coluna_meses('meses_tto_ciclofosfamida')\n",
    "verificar_coluna_meses('meses_tto_mtx_hcq')\n",
    "verificar_coluna_meses('meses_tto_mtx_ssz')\n",
    "verificar_coluna_meses('meses_tto_ssz_hcq')\n",
    "verificar_coluna_meses('meses_tto_lef_mtx')\n",
    "verificar_coluna_meses('meses_tto_lef_hcq')\n",
    "verificar_coluna_meses('meses_tto_naproxeno')\n",
    "verificar_coluna_meses('meses_tto_lef_ssz')\n",
    "verificar_coluna_meses('meses_tto_mtx_ssz_hcq')\n",
    "verificar_coluna_meses('meses_mmcd')\n",
    "verificar_coluna_meses('maior_gap_mmcd')\n",
    "verificar_coluna_meses('meses_tto_mmcd_duplo')\n",
    "verificar_coluna_meses('meses_tto_mmcd_triplo')\n",
    "verificar_coluna_meses('meses_total_tto')"
   ]
  },
  {
   "attachments": {},
   "cell_type": "markdown",
   "metadata": {},
   "source": [
    "Foi verificado que a coluna `meses_tto_ciclofosfamida` possui todos os valores zerados. Dessa forma, a mesma será excluída do dataframe por não agregar informação ao conjunto de dados."
   ]
  },
  {
   "attachments": {},
   "cell_type": "markdown",
   "metadata": {},
   "source": [
    "Por fim, foi plotado um gráfico para visualizar os dados."
   ]
  },
  {
   "cell_type": "code",
   "execution_count": 411,
   "metadata": {},
   "outputs": [
    {
     "data": {
      "image/png": "[encoded data removed]",
      "text/plain": [
       "<Figure size 640x480 with 1 Axes>"
      ]
     },
     "metadata": {},
     "output_type": "display_data"
    }
   ],
   "source": [
    "# Colunas para o gráfico de dispersão\n",
    "colunas = ['meses_tto_leflunomida', 'meses_tto_hidroxicloroquina', 'meses_tto_cloroquina', 'meses_tto_metotrexato', 'meses_tto_sulfassalazina', \n",
    "           'meses_tto_azatioprina', 'meses_tto_ciclosporina', 'meses_tto_naproxeno', 'meses_tto_mtx_hcq', 'meses_tto_mtx_ssz', 'meses_tto_ssz_hcq',\n",
    "           'meses_tto_lef_mtx', 'meses_tto_lef_hcq', 'meses_tto_lef_ssz', 'meses_tto_mtx_ssz_hcq', 'meses_tto_mmcd_duplo', 'meses_tto_mmcd_triplo',\n",
    "           'meses_mmcd', 'meses_total_tto', 'maior_gap_mmcd']\n",
    "\n",
    "# Transformar os dados\n",
    "df_subconjunto = df[colunas]\n",
    "df_melted = df_subconjunto.melt(var_name='Colunas', value_name='Valores')\n",
    "\n",
    "# Plotar o gráfico\n",
    "sns.scatterplot(data=df_melted, x='Valores', y='Colunas')\n",
    "plt.xticks(rotation=90)\n",
    "plt.title(\"Meses referentes aos tratamentos\")\n",
    "plt.xlabel('Meses')\n",
    "plt.ylabel('Tratamento')\n",
    "plt.show()"
   ]
  },
  {
   "attachments": {},
   "cell_type": "markdown",
   "metadata": {},
   "source": [
    "### MMCD distintos\n",
    "Por último, restou avaliar a qualidade do dado referente a quantidade de MMCD distintos utilizados pelos pacientes, por meio da variável `mmcd_distintos`. Não foram encontrados dados inconsistentes."
   ]
  },
  {
   "cell_type": "code",
   "execution_count": 412,
   "metadata": {},
   "outputs": [
    {
     "data": {
      "text/plain": [
       "count   98660.000\n",
       "mean        1.455\n",
       "std         0.627\n",
       "min         0.000\n",
       "25%         1.000\n",
       "50%         1.000\n",
       "75%         2.000\n",
       "max         4.000\n",
       "Name: mmcd_distintos, dtype: float64"
      ]
     },
     "execution_count": 412,
     "metadata": {},
     "output_type": "execute_result"
    }
   ],
   "source": [
    "# Verificar as informações da coluna\n",
    "df['mmcd_distintos'].describe()"
   ]
  },
  {
   "cell_type": "code",
   "execution_count": 413,
   "metadata": {},
   "outputs": [
    {
     "data": {
      "image/png": "[encoded data removed]",
      "text/plain": [
       "<Figure size 640x480 with 1 Axes>"
      ]
     },
     "metadata": {},
     "output_type": "display_data"
    }
   ],
   "source": [
    "# Contar registros distintos por combinação de 'mmcd_distintos' e 'nova_terapia'\n",
    "contagens = df.groupby(['mmcd_distintos', 'nova_terapia']).size().unstack()\n",
    "\n",
    "# Criar o gráfico de barras empilhadas\n",
    "contagens.plot(kind='bar', stacked=True)\n",
    "\n",
    "# Plotar o gráfico\n",
    "plt.title('Quantidade de MMCD distintos utilizados por paciente')\n",
    "plt.xlabel('MMCD distintos')\n",
    "plt.ylabel('Contagem')\n",
    "plt.show()"
   ]
  },
  {
   "attachments": {},
   "cell_type": "markdown",
   "metadata": {},
   "source": [
    "## Transformar variáveis\n",
    "### Variáveis categóricas nominais\n",
    "As variáveis categóricas que não possuem ordem de grandeza entre os seus valores passarão pelo processo de One-Hot Enconding. Contudo, primeiramente foi verificado que aplicar a técnica para todas as colunas necessárias deixaria o dataframe com particamente 5 mil colunas. "
   ]
  },
  {
   "cell_type": "code",
   "execution_count": 414,
   "metadata": {},
   "outputs": [
    {
     "name": "stdout",
     "output_type": "stream",
     "text": [
      "cid                                 7\n",
      "sexo_paciente                       2\n",
      "municipio_residencia_paciente    4451\n",
      "regiao_residencia_paciente          5\n",
      "sigla_uf_dispensacao               27\n",
      "codigo_municipio_dispensacao      187\n",
      "cnes_dispensacao                  215\n",
      "dtype: int64\n",
      "Soma dos valores distintos: 4894\n"
     ]
    }
   ],
   "source": [
    "# Variáveis categóricas nominais\n",
    "colunas_selecionadas = ['cid','sexo_paciente', 'municipio_residencia_paciente', 'regiao_residencia_paciente', 'sigla_uf_dispensacao', 'codigo_municipio_dispensacao', 'cnes_dispensacao']\n",
    "valores_distintos = df[colunas_selecionadas].nunique()\n",
    "\n",
    "# Exibir o resultado\n",
    "print(valores_distintos)\n",
    "print(\"Soma dos valores distintos:\", valores_distintos.sum())"
   ]
  },
  {
   "attachments": {},
   "cell_type": "markdown",
   "metadata": {},
   "source": [
    "Considerando as limitações do computador que irá rodar esse script, o One-Hot Enconding foi aplicado apenas para as colunas com menos de 50 valores distintos. A técnica será aplicada no pipeline de treinamento dos modelos."
   ]
  },
  {
   "attachments": {},
   "cell_type": "markdown",
   "metadata": {},
   "source": [
    "### Variáveis categóricas ordinais\n",
    "O dataframe não possui nenhuma variável categórica ordinal.\n",
    "### Variáveis booleanas\n",
    "As variáveis booleanas foram transformadas em 0 para os valores `false` e 1 para os valores `true`."
   ]
  },
  {
   "cell_type": "code",
   "execution_count": 19,
   "metadata": {},
   "outputs": [
    {
     "data": {
      "text/html": [
       "<div>\n",
       "<style scoped>\n",
       "    .dataframe tbody tr th:only-of-type {\n",
       "        vertical-align: middle;\n",
       "    }\n",
       "\n",
       "    .dataframe tbody tr th {\n",
       "        vertical-align: top;\n",
       "    }\n",
       "\n",
       "    .dataframe thead th {\n",
       "        text-align: right;\n",
       "    }\n",
       "</style>\n",
       "<table border=\"1\" class=\"dataframe\">\n",
       "  <thead>\n",
       "    <tr style=\"text-align: right;\">\n",
       "      <th></th>\n",
       "      <th>residencia_amazonia_legal</th>\n",
       "      <th>residencia_semiarido</th>\n",
       "      <th>uso_leflunomida</th>\n",
       "      <th>uso_hidroxicloroquina</th>\n",
       "      <th>uso_cloroquina</th>\n",
       "      <th>uso_metotrexato</th>\n",
       "      <th>uso_sulfassalazina</th>\n",
       "      <th>uso_azatioprina</th>\n",
       "      <th>uso_ciclosporina</th>\n",
       "      <th>uso_ciclofosfamida</th>\n",
       "      <th>uso_mtx_hcq</th>\n",
       "      <th>uso_mtx_ssz</th>\n",
       "      <th>uso_ssz_hcq</th>\n",
       "      <th>uso_lef_mtx</th>\n",
       "      <th>uso_lef_hcq</th>\n",
       "      <th>uso_naproxeno</th>\n",
       "      <th>uso_lef_ssz</th>\n",
       "      <th>uso_mtx_ssz_hcq</th>\n",
       "      <th>uso_tto_mmcd_duplo</th>\n",
       "      <th>uso_tto_mmcd_triplo</th>\n",
       "      <th>nova_terapia</th>\n",
       "    </tr>\n",
       "  </thead>\n",
       "  <tbody>\n",
       "    <tr>\n",
       "      <th>0</th>\n",
       "      <td>0</td>\n",
       "      <td>0</td>\n",
       "      <td>0</td>\n",
       "      <td>0</td>\n",
       "      <td>0</td>\n",
       "      <td>0</td>\n",
       "      <td>0</td>\n",
       "      <td>1</td>\n",
       "      <td>0</td>\n",
       "      <td>0</td>\n",
       "      <td>0</td>\n",
       "      <td>0</td>\n",
       "      <td>0</td>\n",
       "      <td>0</td>\n",
       "      <td>0</td>\n",
       "      <td>0</td>\n",
       "      <td>0</td>\n",
       "      <td>0</td>\n",
       "      <td>0</td>\n",
       "      <td>0</td>\n",
       "      <td>1</td>\n",
       "    </tr>\n",
       "    <tr>\n",
       "      <th>1</th>\n",
       "      <td>0</td>\n",
       "      <td>0</td>\n",
       "      <td>1</td>\n",
       "      <td>0</td>\n",
       "      <td>0</td>\n",
       "      <td>1</td>\n",
       "      <td>0</td>\n",
       "      <td>0</td>\n",
       "      <td>0</td>\n",
       "      <td>0</td>\n",
       "      <td>0</td>\n",
       "      <td>0</td>\n",
       "      <td>0</td>\n",
       "      <td>1</td>\n",
       "      <td>0</td>\n",
       "      <td>0</td>\n",
       "      <td>0</td>\n",
       "      <td>0</td>\n",
       "      <td>1</td>\n",
       "      <td>0</td>\n",
       "      <td>0</td>\n",
       "    </tr>\n",
       "    <tr>\n",
       "      <th>2</th>\n",
       "      <td>0</td>\n",
       "      <td>0</td>\n",
       "      <td>0</td>\n",
       "      <td>1</td>\n",
       "      <td>0</td>\n",
       "      <td>0</td>\n",
       "      <td>0</td>\n",
       "      <td>0</td>\n",
       "      <td>0</td>\n",
       "      <td>0</td>\n",
       "      <td>0</td>\n",
       "      <td>0</td>\n",
       "      <td>0</td>\n",
       "      <td>0</td>\n",
       "      <td>0</td>\n",
       "      <td>0</td>\n",
       "      <td>0</td>\n",
       "      <td>0</td>\n",
       "      <td>0</td>\n",
       "      <td>0</td>\n",
       "      <td>0</td>\n",
       "    </tr>\n",
       "    <tr>\n",
       "      <th>3</th>\n",
       "      <td>0</td>\n",
       "      <td>1</td>\n",
       "      <td>0</td>\n",
       "      <td>1</td>\n",
       "      <td>0</td>\n",
       "      <td>1</td>\n",
       "      <td>0</td>\n",
       "      <td>0</td>\n",
       "      <td>0</td>\n",
       "      <td>0</td>\n",
       "      <td>1</td>\n",
       "      <td>0</td>\n",
       "      <td>0</td>\n",
       "      <td>0</td>\n",
       "      <td>0</td>\n",
       "      <td>0</td>\n",
       "      <td>0</td>\n",
       "      <td>0</td>\n",
       "      <td>1</td>\n",
       "      <td>0</td>\n",
       "      <td>0</td>\n",
       "    </tr>\n",
       "    <tr>\n",
       "      <th>4</th>\n",
       "      <td>0</td>\n",
       "      <td>0</td>\n",
       "      <td>1</td>\n",
       "      <td>0</td>\n",
       "      <td>0</td>\n",
       "      <td>0</td>\n",
       "      <td>0</td>\n",
       "      <td>0</td>\n",
       "      <td>0</td>\n",
       "      <td>0</td>\n",
       "      <td>0</td>\n",
       "      <td>0</td>\n",
       "      <td>0</td>\n",
       "      <td>0</td>\n",
       "      <td>0</td>\n",
       "      <td>0</td>\n",
       "      <td>0</td>\n",
       "      <td>0</td>\n",
       "      <td>0</td>\n",
       "      <td>0</td>\n",
       "      <td>0</td>\n",
       "    </tr>\n",
       "    <tr>\n",
       "      <th>...</th>\n",
       "      <td>...</td>\n",
       "      <td>...</td>\n",
       "      <td>...</td>\n",
       "      <td>...</td>\n",
       "      <td>...</td>\n",
       "      <td>...</td>\n",
       "      <td>...</td>\n",
       "      <td>...</td>\n",
       "      <td>...</td>\n",
       "      <td>...</td>\n",
       "      <td>...</td>\n",
       "      <td>...</td>\n",
       "      <td>...</td>\n",
       "      <td>...</td>\n",
       "      <td>...</td>\n",
       "      <td>...</td>\n",
       "      <td>...</td>\n",
       "      <td>...</td>\n",
       "      <td>...</td>\n",
       "      <td>...</td>\n",
       "      <td>...</td>\n",
       "    </tr>\n",
       "    <tr>\n",
       "      <th>99349</th>\n",
       "      <td>0</td>\n",
       "      <td>1</td>\n",
       "      <td>1</td>\n",
       "      <td>0</td>\n",
       "      <td>0</td>\n",
       "      <td>1</td>\n",
       "      <td>0</td>\n",
       "      <td>0</td>\n",
       "      <td>0</td>\n",
       "      <td>0</td>\n",
       "      <td>0</td>\n",
       "      <td>0</td>\n",
       "      <td>0</td>\n",
       "      <td>1</td>\n",
       "      <td>0</td>\n",
       "      <td>0</td>\n",
       "      <td>0</td>\n",
       "      <td>0</td>\n",
       "      <td>1</td>\n",
       "      <td>0</td>\n",
       "      <td>0</td>\n",
       "    </tr>\n",
       "    <tr>\n",
       "      <th>99350</th>\n",
       "      <td>1</td>\n",
       "      <td>1</td>\n",
       "      <td>1</td>\n",
       "      <td>0</td>\n",
       "      <td>0</td>\n",
       "      <td>0</td>\n",
       "      <td>0</td>\n",
       "      <td>0</td>\n",
       "      <td>0</td>\n",
       "      <td>0</td>\n",
       "      <td>0</td>\n",
       "      <td>0</td>\n",
       "      <td>0</td>\n",
       "      <td>0</td>\n",
       "      <td>0</td>\n",
       "      <td>0</td>\n",
       "      <td>0</td>\n",
       "      <td>0</td>\n",
       "      <td>0</td>\n",
       "      <td>0</td>\n",
       "      <td>0</td>\n",
       "    </tr>\n",
       "    <tr>\n",
       "      <th>99351</th>\n",
       "      <td>0</td>\n",
       "      <td>0</td>\n",
       "      <td>1</td>\n",
       "      <td>0</td>\n",
       "      <td>0</td>\n",
       "      <td>0</td>\n",
       "      <td>0</td>\n",
       "      <td>0</td>\n",
       "      <td>0</td>\n",
       "      <td>0</td>\n",
       "      <td>0</td>\n",
       "      <td>0</td>\n",
       "      <td>0</td>\n",
       "      <td>0</td>\n",
       "      <td>0</td>\n",
       "      <td>0</td>\n",
       "      <td>0</td>\n",
       "      <td>0</td>\n",
       "      <td>0</td>\n",
       "      <td>0</td>\n",
       "      <td>0</td>\n",
       "    </tr>\n",
       "    <tr>\n",
       "      <th>99352</th>\n",
       "      <td>0</td>\n",
       "      <td>0</td>\n",
       "      <td>0</td>\n",
       "      <td>1</td>\n",
       "      <td>0</td>\n",
       "      <td>1</td>\n",
       "      <td>0</td>\n",
       "      <td>0</td>\n",
       "      <td>0</td>\n",
       "      <td>0</td>\n",
       "      <td>1</td>\n",
       "      <td>0</td>\n",
       "      <td>0</td>\n",
       "      <td>0</td>\n",
       "      <td>0</td>\n",
       "      <td>0</td>\n",
       "      <td>0</td>\n",
       "      <td>0</td>\n",
       "      <td>1</td>\n",
       "      <td>0</td>\n",
       "      <td>0</td>\n",
       "    </tr>\n",
       "    <tr>\n",
       "      <th>99353</th>\n",
       "      <td>0</td>\n",
       "      <td>0</td>\n",
       "      <td>1</td>\n",
       "      <td>0</td>\n",
       "      <td>0</td>\n",
       "      <td>0</td>\n",
       "      <td>0</td>\n",
       "      <td>0</td>\n",
       "      <td>0</td>\n",
       "      <td>0</td>\n",
       "      <td>0</td>\n",
       "      <td>0</td>\n",
       "      <td>0</td>\n",
       "      <td>0</td>\n",
       "      <td>0</td>\n",
       "      <td>0</td>\n",
       "      <td>0</td>\n",
       "      <td>0</td>\n",
       "      <td>0</td>\n",
       "      <td>0</td>\n",
       "      <td>1</td>\n",
       "    </tr>\n",
       "  </tbody>\n",
       "</table>\n",
       "<p>99354 rows × 21 columns</p>\n",
       "</div>"
      ],
      "text/plain": [
       "       residencia_amazonia_legal  residencia_semiarido  uso_leflunomida  \\\n",
       "0                              0                     0                0   \n",
       "1                              0                     0                1   \n",
       "2                              0                     0                0   \n",
       "3                              0                     1                0   \n",
       "4                              0                     0                1   \n",
       "...                          ...                   ...              ...   \n",
       "99349                          0                     1                1   \n",
       "99350                          1                     1                1   \n",
       "99351                          0                     0                1   \n",
       "99352                          0                     0                0   \n",
       "99353                          0                     0                1   \n",
       "\n",
       "       uso_hidroxicloroquina  uso_cloroquina  uso_metotrexato  \\\n",
       "0                          0               0                0   \n",
       "1                          0               0                1   \n",
       "2                          1               0                0   \n",
       "3                          1               0                1   \n",
       "4                          0               0                0   \n",
       "...                      ...             ...              ...   \n",
       "99349                      0               0                1   \n",
       "99350                      0               0                0   \n",
       "99351                      0               0                0   \n",
       "99352                      1               0                1   \n",
       "99353                      0               0                0   \n",
       "\n",
       "       uso_sulfassalazina  uso_azatioprina  uso_ciclosporina  \\\n",
       "0                       0                1                 0   \n",
       "1                       0                0                 0   \n",
       "2                       0                0                 0   \n",
       "3                       0                0                 0   \n",
       "4                       0                0                 0   \n",
       "...                   ...              ...               ...   \n",
       "99349                   0                0                 0   \n",
       "99350                   0                0                 0   \n",
       "99351                   0                0                 0   \n",
       "99352                   0                0                 0   \n",
       "99353                   0                0                 0   \n",
       "\n",
       "       uso_ciclofosfamida  uso_mtx_hcq  uso_mtx_ssz  uso_ssz_hcq  uso_lef_mtx  \\\n",
       "0                       0            0            0            0            0   \n",
       "1                       0            0            0            0            1   \n",
       "2                       0            0            0            0            0   \n",
       "3                       0            1            0            0            0   \n",
       "4                       0            0            0            0            0   \n",
       "...                   ...          ...          ...          ...          ...   \n",
       "99349                   0            0            0            0            1   \n",
       "99350                   0            0            0            0            0   \n",
       "99351                   0            0            0            0            0   \n",
       "99352                   0            1            0            0            0   \n",
       "99353                   0            0            0            0            0   \n",
       "\n",
       "       uso_lef_hcq  uso_naproxeno  uso_lef_ssz  uso_mtx_ssz_hcq  \\\n",
       "0                0              0            0                0   \n",
       "1                0              0            0                0   \n",
       "2                0              0            0                0   \n",
       "3                0              0            0                0   \n",
       "4                0              0            0                0   \n",
       "...            ...            ...          ...              ...   \n",
       "99349            0              0            0                0   \n",
       "99350            0              0            0                0   \n",
       "99351            0              0            0                0   \n",
       "99352            0              0            0                0   \n",
       "99353            0              0            0                0   \n",
       "\n",
       "       uso_tto_mmcd_duplo  uso_tto_mmcd_triplo  nova_terapia  \n",
       "0                       0                    0             1  \n",
       "1                       1                    0             0  \n",
       "2                       0                    0             0  \n",
       "3                       1                    0             0  \n",
       "4                       0                    0             0  \n",
       "...                   ...                  ...           ...  \n",
       "99349                   1                    0             0  \n",
       "99350                   0                    0             0  \n",
       "99351                   0                    0             0  \n",
       "99352                   1                    0             0  \n",
       "99353                   0                    0             1  \n",
       "\n",
       "[99354 rows x 21 columns]"
      ]
     },
     "execution_count": 19,
     "metadata": {},
     "output_type": "execute_result"
    }
   ],
   "source": [
    "# Função para ransformar valores True em 1 e False em 0\n",
    "transformacao = lambda x: 1 if x else 0\n",
    "\n",
    "# Selecionar as colunas\n",
    "colunas_booleanas = ['residencia_amazonia_legal', 'residencia_semiarido', 'uso_leflunomida', 'uso_hidroxicloroquina', 'uso_cloroquina', 'uso_metotrexato', \n",
    "    'uso_sulfassalazina', 'uso_azatioprina', 'uso_ciclosporina', 'uso_ciclofosfamida', 'uso_mtx_hcq','uso_mtx_ssz', 'uso_ssz_hcq', 'uso_lef_mtx', \n",
    "    'uso_lef_hcq', 'uso_naproxeno', 'uso_lef_ssz', 'uso_mtx_ssz_hcq', 'uso_tto_mmcd_duplo', 'uso_tto_mmcd_triplo', 'nova_terapia']\n",
    "\n",
    "# Fazer a transformação\n",
    "df[colunas_booleanas] = df[colunas_booleanas].applymap(transformacao)\n",
    "\n",
    "# Confimar os dados alterados\n",
    "df[colunas_booleanas]"
   ]
  },
  {
   "attachments": {},
   "cell_type": "markdown",
   "metadata": {},
   "source": [
    "### Escalonamento\n",
    "Para o escalonamento das variveis numéricas foi utilizada técnica de padronização, utilizando a função `StandardScaler`. O escalonamento foi incluído no pipeline de treinamento dos modelos.\n",
    "## Correlação\n",
    "Foi verificado que em geral existe pouca correlação entre as variáveis de estudo."
   ]
  },
  {
   "cell_type": "code",
   "execution_count": 416,
   "metadata": {},
   "outputs": [
    {
     "data": {
      "image/png": "[encoded data removed]",
      "text/plain": [
       "<Figure size 640x480 with 2 Axes>"
      ]
     },
     "metadata": {},
     "output_type": "display_data"
    }
   ],
   "source": [
    "# Calcular a matriz de correlação\n",
    "corr_matrix = df.corr()\n",
    "\n",
    "# Gerar o mapa de calor\n",
    "sns.heatmap(corr_matrix, cmap='coolwarm')\n",
    "\n",
    "# Plotar o mapa de calor\n",
    "plt.show()"
   ]
  },
  {
   "attachments": {},
   "cell_type": "markdown",
   "metadata": {},
   "source": [
    "As variáveis que possuem correlação acima de 0,7 foram listadas abaixo e avaliadas."
   ]
  },
  {
   "cell_type": "code",
   "execution_count": 417,
   "metadata": {},
   "outputs": [
    {
     "name": "stdout",
     "output_type": "stream",
     "text": [
      "Colunas correlacionadas:\n",
      "municipio_residencia_paciente x codigo_municipio_dispensacao: 0.998\n",
      "codigo_municipio_dispensacao x municipio_residencia_paciente: 0.998\n",
      "uso_cloroquina x meses_tto_cloroquina: 0.707\n",
      "meses_tto_cloroquina x uso_cloroquina: 0.707\n",
      "uso_sulfassalazina x meses_tto_sulfassalazina: 0.702\n",
      "meses_tto_sulfassalazina x uso_sulfassalazina: 0.702\n",
      "uso_azatioprina x meses_tto_azatioprina: 0.729\n",
      "meses_tto_azatioprina x uso_azatioprina: 0.729\n",
      "uso_mtx_hcq x meses_tto_mtx_hcq: 0.731\n",
      "meses_tto_mtx_hcq x uso_mtx_hcq: 0.731\n",
      "uso_ssz_hcq x meses_tto_ssz_hcq: 0.713\n",
      "meses_tto_ssz_hcq x uso_ssz_hcq: 0.713\n",
      "uso_lef_mtx x uso_tto_mmcd_duplo: 0.706\n",
      "uso_lef_hcq x meses_tto_lef_hcq: 0.721\n",
      "meses_tto_lef_hcq x uso_lef_hcq: 0.721\n",
      "uso_mtx_ssz_hcq x meses_tto_mtx_ssz_hcq: 0.705\n",
      "meses_tto_mtx_ssz_hcq x uso_mtx_ssz_hcq: 0.705\n",
      "meses_mmcd x meses_total_tto: 0.91\n",
      "mmcd_distintos x uso_tto_mmcd_duplo: 0.852\n",
      "uso_tto_mmcd_duplo x uso_lef_mtx: 0.706\n",
      "uso_tto_mmcd_duplo x mmcd_distintos: 0.852\n",
      "uso_tto_mmcd_triplo x meses_tto_mmcd_triplo: 0.713\n",
      "meses_tto_mmcd_triplo x uso_tto_mmcd_triplo: 0.713\n",
      "meses_total_tto x meses_mmcd: 0.91\n"
     ]
    }
   ],
   "source": [
    "# Calcular a matriz de correlação\n",
    "matriz_correlacao = df.corr()\n",
    "\n",
    "# Localizar as colunas com correlação acima de 0,7\n",
    "limite_correlacao = 0.7\n",
    "colunas_correlacionadas = []\n",
    "for coluna in matriz_correlacao:\n",
    "    colunas_correlacionadas.extend([(coluna, coluna_correlacionada, matriz_correlacao[coluna][coluna_correlacionada])\n",
    "                                   for coluna_correlacionada in matriz_correlacao.index\n",
    "                                   if abs(matriz_correlacao[coluna][coluna_correlacionada]) > limite_correlacao\n",
    "                                   and coluna != coluna_correlacionada])\n",
    "\n",
    "# Exibir as colunas com correlação acima de 0,7\n",
    "print(f'Colunas com correlação acima de 0,7:')\n",
    "for coluna_correlacionada in colunas_correlacionadas:\n",
    "    coluna_correlacionada_round = round(coluna_correlacionada[2], 3)\n",
    "    print(f'{coluna_correlacionada[0]} x {coluna_correlacionada[1]}: {coluna_correlacionada_round}')\n"
   ]
  },
  {
   "attachments": {},
   "cell_type": "markdown",
   "metadata": {},
   "source": [
    "A partir da avaliação realizada apenas a variável `codigo_municipio_dispensacao` foi excluída do modelo."
   ]
  },
  {
   "cell_type": "code",
   "execution_count": 17,
   "metadata": {},
   "outputs": [
    {
     "name": "stdout",
     "output_type": "stream",
     "text": [
      "Colunas antes da exclusão: 57\n",
      "Colunas após a exclusão: 56\n",
      "Colunas excluídas: 1\n"
     ]
    }
   ],
   "source": [
    "# Verificar a quantidade de colunas antes da exclusão\n",
    "qtd_col_anterior = df.shape[1]\n",
    "\n",
    "# Excluir as colunas\n",
    "df = df.drop(['codigo_municipio_dispensacao'], axis=1)\n",
    "\n",
    "# Confirmar a exclusão\n",
    "print(f'Colunas antes da exclusão: {qtd_col_anterior}')\n",
    "print(f'Colunas após a exclusão: {df.shape[1]}')\n",
    "print(f'Colunas excluídas: {qtd_col_anterior - df.shape[1]}')"
   ]
  },
  {
   "attachments": {},
   "cell_type": "markdown",
   "metadata": {},
   "source": [
    "### Reduzir dimensionalidade\n",
    "Tendo em vista a correlação entre algumas variáveis do modelo, foi testado o quanto a redução da dimensionalidade do dataframe poderia interferir nos modelos. Para o teste utilizou-se o classificador `Naive Bayes` com o algoritmo de redução `PCA`. Para a realizar a comparação a métrica AUC ROC foi mensurada em treinamentos realizados com e sem a aplicação do PCA. Ao reduzir a dimensionalidade para 30 variáveis pode-se observar que os resultados tiveram pouca alteração e por isso o algoritmo PCA foi incluído no pipeline de treinamento dos modelos."
   ]
  },
  {
   "cell_type": "code",
   "execution_count": 419,
   "metadata": {},
   "outputs": [
    {
     "name": "stdout",
     "output_type": "stream",
     "text": [
      "AUC ROC sem redução de dimensionalidade: 0.63321\n",
      "AUC ROC com redução de dimensionalidade (PCA): 0.52843\n"
     ]
    }
   ],
   "source": [
    "# Realizar o one-hot\n",
    "colunas_selecionadas = ['cid','sexo_paciente', 'sigla_uf_dispensacao', 'regiao_residencia_paciente']\n",
    "df_pca = pd.get_dummies(df, columns=colunas_selecionadas)\n",
    "\n",
    "# Imputar valores nulos\n",
    "df_pca = df_pca.fillna(df_pca.median())\n",
    "\n",
    "# Separar variáveis independentes e dependente\n",
    "X = df_pca.drop('nova_terapia', axis=1)\n",
    "y = df_pca['nova_terapia']\n",
    "\n",
    "# Escalonar os dados\n",
    "scaler = StandardScaler()\n",
    "X = scaler.fit_transform(X)\n",
    "\n",
    "# Dividir os dados em conjuntos de treinamento e teste\n",
    "X_train, X_test, y_train, y_test = train_test_split(X, y, test_size=0.7, random_state=1)\n",
    "\n",
    "# Treinar e avaliar do Naive Bayes sem redução de dimensionalidade\n",
    "naive_bayes = GaussianNB()\n",
    "naive_bayes.fit(X_train, y_train)\n",
    "y_pred = naive_bayes.predict(X_test)\n",
    "auc_roc_original = roc_auc_score(y_test, y_pred)\n",
    "\n",
    "# Reduzir a dimensionalidade com PCA\n",
    "pca = PCA(n_components=30, random_state=1)\n",
    "X_train_pca = pca.fit_transform(X_train)\n",
    "X_test_pca = pca.transform(X_test)\n",
    "\n",
    "# Treinar e avaliar o Naive Bayes com redução de dimensionalidade\n",
    "naive_bayes_pca = GaussianNB()\n",
    "naive_bayes_pca.fit(X_train_pca, y_train)\n",
    "y_pred_pca = naive_bayes_pca.predict(X_test_pca)\n",
    "auc_roc_pca = roc_auc_score(y_test, y_pred_pca)\n",
    "\n",
    "# Comparar os resultados\n",
    "print(f\"AUC ROC sem redução de dimensionalidade: {round(auc_roc_original,5)}\")\n",
    "print(f\"AUC ROC com redução de dimensionalidade (PCA): {round(auc_roc_pca,5)}\")\n"
   ]
  },
  {
   "attachments": {},
   "cell_type": "markdown",
   "metadata": {},
   "source": [
    "## Balanceamento da classe\n",
    "Devido ao baixo score obtido com o AUC ROC na etapa anterior, verificou-se que a classe do dataframe estava desbalanceda."
   ]
  },
  {
   "cell_type": "code",
   "execution_count": 420,
   "metadata": {},
   "outputs": [
    {
     "name": "stdout",
     "output_type": "stream",
     "text": [
      "nova_terapia\n",
      "   Registros  Porcentagem\n",
      "0      85516       86.680\n",
      "1      13144       13.320\n"
     ]
    }
   ],
   "source": [
    "# Verificar os valores da classe\n",
    "count_percent('nova_terapia')"
   ]
  },
  {
   "attachments": {},
   "cell_type": "markdown",
   "metadata": {},
   "source": [
    "Foi observado que somente 13,3% dos pacientes haviam migrado para o tratamento diferente dos MMCD. Assim, foram testadas se as técnicas de sobreamostragem e subamostragem que podem aumentar o AUC ROC.\n",
    "### Sobreamostragem"
   ]
  },
  {
   "cell_type": "code",
   "execution_count": 421,
   "metadata": {},
   "outputs": [
    {
     "name": "stdout",
     "output_type": "stream",
     "text": [
      "AUC ROC após sobreamostragem: 0.63272\n"
     ]
    }
   ],
   "source": [
    "# Instanciar o balanceador\n",
    "smote = SMOTE(sampling_strategy='minority', random_state=1)\n",
    "\n",
    "# Realizar a sobreamostragem\n",
    "X_over, y_over = smote.fit_resample(X_train, y_train)\n",
    "\n",
    "# Treinar o modelo\n",
    "nb_resampled = GaussianNB()\n",
    "nb_resampled.fit(X_over, y_over)\n",
    "y_pred_resampled = nb_resampled.predict(X_test)\n",
    "\n",
    "# Plotar os resultados\n",
    "auc_resampled = roc_auc_score(y_test, y_pred_resampled)\n",
    "print(\"AUC ROC após sobreamostragem:\", round(auc_resampled,5))"
   ]
  },
  {
   "attachments": {},
   "cell_type": "markdown",
   "metadata": {},
   "source": [
    "### Subamostragem"
   ]
  },
  {
   "cell_type": "code",
   "execution_count": 422,
   "metadata": {},
   "outputs": [
    {
     "name": "stdout",
     "output_type": "stream",
     "text": [
      "AUC ROC após subamostragem: 0.63075\n"
     ]
    }
   ],
   "source": [
    "# Instanciar o balanceador\n",
    "tl = TomekLinks(sampling_strategy='majority')\n",
    "\n",
    "# Realizar a sobreamostragem\n",
    "X_under, y_under = tl.fit_resample(X_train, y_train)\n",
    "\n",
    "# Treinar o modelo\n",
    "nb_resampled = GaussianNB()\n",
    "nb_resampled.fit(X_under, y_under)\n",
    "y_pred_resampled = nb_resampled.predict(X_test)\n",
    "\n",
    "# Plotar os resultados\n",
    "auc_resampled = roc_auc_score(y_test, y_pred_resampled)\n",
    "print(\"AUC ROC após subamostragem:\", round(auc_resampled, 5))"
   ]
  },
  {
   "attachments": {},
   "cell_type": "markdown",
   "metadata": {},
   "source": [
    "Foi verificado que o ganho com a técnica de subsmostragem foi minimo, e por isso foi aplicada a técnica de sobreamostragem no pipeline de treinamento."
   ]
  },
  {
   "attachments": {},
   "cell_type": "markdown",
   "metadata": {},
   "source": [
    "## Dividir previsores e classe\n",
    "O dataframe foi dividido em outros dois, sendo que um deles receberá as variáveis previsoras e outra receberá a classe."
   ]
  },
  {
   "cell_type": "code",
   "execution_count": 20,
   "metadata": {},
   "outputs": [
    {
     "name": "stdout",
     "output_type": "stream",
     "text": [
      "(99354, 55)\n",
      "(99354, 1)\n"
     ]
    }
   ],
   "source": [
    "# Dataframe com os previsores\n",
    "X = df.drop(\"nova_terapia\", axis=1)\n",
    "\n",
    "# Dataframe com a classe\n",
    "y = df[[\"nova_terapia\"]].copy()\n",
    "\n",
    "# Confirmar a criação dos dataframes\n",
    "print(X.shape)\n",
    "print(y.shape)"
   ]
  },
  {
   "attachments": {},
   "cell_type": "markdown",
   "metadata": {},
   "source": [
    "# Selecionar melhor modelo\n",
    "## Pipeline\n",
    "Foi criado um pipeline para realizar de forma aninhada as seguintes etapas:\n",
    "- Transformar as variáveis categoricas nominais pelo One-hot encondig;\n",
    "- Imputar valores nulos pelo cálculo da média;\n",
    "- Padronizar as variáveis para que a diferença das escalas não afete o modelo;\n",
    "- Reduzir a dimensionalidade do modelo;\n",
    "- Aplicar a técnica de sobreamostragem para balancear a variável dependente;\n",
    "- Criar o modelo a partir da seleção dos melhores paramêtros para cada algoritmo, utilizando o `GridSearchCV`;\n",
    "- Realizar validação cruzada interna e externa (aninhada) para melhorar a generalização do modelo e reduir viés e a possíbilidade de overfiting;   \n",
    "- Repetir todo o processo 3 vezes devido a característica estocástica do processo.   "
   ]
  },
  {
   "cell_type": "code",
   "execution_count": 47,
   "metadata": {},
   "outputs": [],
   "source": [
    "# Quantidade de partes para validação cruzada\n",
    "k_cv_interno = 10\n",
    "k_cv_externo = 5\n",
    "\n",
    "# Repetições da validação cruzada aninhada\n",
    "repetir_processo = 3\n",
    "\n",
    "# Definir as colunas que passarão pelo pré-processamento\n",
    "colunas_numericas = X.select_dtypes(include=['int64', 'float64']).columns\n",
    "colunas_categorias = ['cid','sexo_paciente', 'regiao_residencia_paciente', 'sigla_uf_dispensacao']\n",
    "\n",
    "# Algoritmos para a transformação das colunas numéricas\n",
    "transformacao_numerica = Pipeline(\n",
    "    steps=[\n",
    "        (\"imputer\", KNNImputer()), \n",
    "        (\"scaler\", StandardScaler())\n",
    "])\n",
    "\n",
    "# Algoritmos para a transformação das colunas categóricas\n",
    "transformacao_categorias = Pipeline(\n",
    "    steps=[\n",
    "        (\"encoder\", OneHotEncoder()),\n",
    "])\n",
    "\n",
    "# Consolidar as transformações\n",
    "preprocessor = ColumnTransformer(\n",
    "    transformers=[\n",
    "        (\"num\", transformacao_numerica, colunas_numericas),\n",
    "        (\"cat\", transformacao_categorias, colunas_categorias),\n",
    "])\n",
    "\n",
    "# Criar pipeline de treinamento\n",
    "pipeline = Pipeline(\n",
    "    steps=[\n",
    "        (\"preprocessor\", preprocessor), \n",
    "        (\"oversampler\", SMOTE(random_state=1)),\n",
    "        (\"pca\", PCA(n_components=30)),\n",
    "        (\"classifier\", LogisticRegression())\n",
    "])"
   ]
  },
  {
   "attachments": {},
   "cell_type": "markdown",
   "metadata": {},
   "source": [
    "## Regressão logística"
   ]
  },
  {
   "cell_type": "code",
   "execution_count": 425,
   "metadata": {},
   "outputs": [
    {
     "name": "stdout",
     "output_type": "stream",
     "text": [
      "AUC ROC 1: 0.72564 (0.004) [26m8s]\n",
      "AUC ROC 2: 0.72586 (0.006) [29m29s]\n",
      "AUC ROC 3: 0.7257 (0.004) [19m23s]\n",
      "Média AUC ROC: 0.72573 (0.0)\n",
      "Tempo total: 75m0s\n"
     ]
    }
   ],
   "source": [
    "# Hora início processo\n",
    "horario_inicio = time.time()\n",
    "\n",
    "# Adicionar o algoritmo ao pipeline\n",
    "pipeline.steps[-1] = (\"classifier\", LogisticRegression(max_iter=1000, random_state=1))\n",
    "\n",
    "# Hiperparâmetros para teste\n",
    "parametros = {\n",
    "    'classifier__tol':[0.0001, 0.00001],\n",
    "    'classifier__C':[1.0, 2.0],\n",
    "    'classifier__solver':['lbfgs', 'sag']\n",
    "    }\n",
    "\n",
    "# Seleção do modelo com os melhores hiperparâmetros\n",
    "cv_interno = KFold(n_splits=k_cv_interno, shuffle=True, random_state=1)\n",
    "modelo_regressao_linear = GridSearchCV(pipeline, parametros, scoring='roc_auc', cv=cv_interno, refit=True)#, n_jobs=-1)\n",
    "\n",
    "# Variável para receber os dados de cada repetição da validação cruzada\n",
    "resultado_regressao = []\n",
    "\n",
    "# Repetição da validação cruzada aninhada\n",
    "for i in range(repetir_processo):\n",
    "    horario_inicio_loop = time.time()\n",
    "\n",
    "    cv_externo = KFold(n_splits=k_cv_externo, shuffle=True, random_state=i)\n",
    "\n",
    "    scores = cross_validate(modelo_regressao_linear, X, y.values.ravel(), cv=cv_externo, scoring='roc_auc', n_jobs=-1)\n",
    "\n",
    "    auc_roc = np.mean(scores['test_score'])\n",
    "    desvio_pad = np.std(scores['test_score'])\n",
    "    resultado_regressao.append(auc_roc)\n",
    "\n",
    "    horario_fim_loop = time.time()\n",
    "    tempo_total_loop = horario_fim_loop - horario_inicio_loop\n",
    "    minutos_loop, segundos_loop = divmod(tempo_total_loop, 60)\n",
    "\n",
    "    print(f\"AUC ROC {i+1}: {round(auc_roc,5)} ({round(desvio_pad,3)}) [{int(minutos_loop)}m{round(segundos_loop)}s]\")\n",
    "    \n",
    "# Visualizar a média final\n",
    "tempo_total = time.time() - horario_inicio\n",
    "minutos, segundos = divmod(tempo_total, 60)\n",
    "print(f\"Média AUC ROC: {round(np.mean(resultado_regressao),5)} ({round(np.std(resultado_regressao),3)})\")\n",
    "print(f\"Tempo total: {int(minutos)}m{round(segundos)}s\")"
   ]
  },
  {
   "attachments": {},
   "cell_type": "markdown",
   "metadata": {},
   "source": [
    "## Naive Bayes\n",
    "Como o Naive Bayes não possui parâmetros para o tunnig, para o treinamento desse algoritmo não será utilizado o `GridSearchCV` e a validação cruzada não será do tipo aninhada."
   ]
  },
  {
   "cell_type": "code",
   "execution_count": 426,
   "metadata": {},
   "outputs": [
    {
     "name": "stdout",
     "output_type": "stream",
     "text": [
      "AUC ROC 1: 0.678 [0m40s]\n",
      "AUC ROC 2: 0.67792 [0m42s]\n",
      "AUC ROC 3: 0.67806 [0m41s]\n",
      "Média AUC ROC: 0.67799 (0.0)\n",
      "Tempo total: 2m3s\n"
     ]
    }
   ],
   "source": [
    "# Hora início processo\n",
    "horario_inicio = time.time()\n",
    "\n",
    "# Adicionar o algoritmo ao pipeline\n",
    "pipeline.steps[-1] = (\"classifier\", GaussianNB())\n",
    "\n",
    "# Variável para receber os dados de cada repetição da validação cruzada\n",
    "resultado_nb = []\n",
    "\n",
    "# Repetição da validação cruzada aninhada\n",
    "for i in range(repetir_processo):\n",
    "    horario_inicio_loop = time.time()\n",
    "\n",
    "    cv = KFold(n_splits=k_cv_interno, shuffle=True, random_state=1)\n",
    "\n",
    "    scores = cross_val_score(pipeline, X, y.values.ravel(), cv=cv, scoring='roc_auc', n_jobs=-1)\n",
    "\n",
    "    resultado_nb.append(scores.mean())\n",
    "\n",
    "    horario_fim_loop = time.time()\n",
    "    tempo_total_loop = horario_fim_loop - horario_inicio_loop\n",
    "    minutos_loop, segundos_loop = divmod(tempo_total_loop, 60)\n",
    "\n",
    "    print(f\"AUC ROC {i+1}: {round(scores.mean(),5)} [{int(minutos_loop)}m{round(segundos_loop)}s]\")\n",
    "\n",
    "# Visualizar a média final\n",
    "tempo_total = time.time() - horario_inicio\n",
    "minutos, segundos = divmod(tempo_total, 60)\n",
    "print(f\"Média AUC ROC: {round(np.mean(resultado_nb),5)} ({round(np.std(resultado_nb),3)})\")\n",
    "print(f\"Tempo total: {int(minutos)}m{round(segundos)}s\")"
   ]
  },
  {
   "attachments": {},
   "cell_type": "markdown",
   "metadata": {},
   "source": [
    "## KNN"
   ]
  },
  {
   "cell_type": "code",
   "execution_count": 22,
   "metadata": {},
   "outputs": [
    {
     "name": "stdout",
     "output_type": "stream",
     "text": [
      "AUC ROC 1: 0.69909 (0.008) [44m54s]\n",
      "AUC ROC 2: 0.70023 (0.005) [58m19s]\n",
      "AUC ROC 3: 0.70109 (0.004) [59m2s]\n",
      "Média AUC ROC: 0.70014 (0.001)\n",
      "Tempo total: 162m15s\n"
     ]
    }
   ],
   "source": [
    "# Hora início processo\n",
    "horario_inicio = time.time()\n",
    "\n",
    "# Adicionar o algoritmo ao pipeline\n",
    "pipeline.steps[-1] = (\"classifier\", KNeighborsClassifier()) \n",
    "\n",
    "# Hiperparâmetros para teste\n",
    "parametros = {\n",
    "    'classifier__n_neighbors': [3, 5, 10], \n",
    "    'classifier__p': [1, 2]  \n",
    "}\n",
    "\n",
    "# Seleção do modelo com os melhores hiperparâmetros\n",
    "cv_interno = KFold(n_splits=k_cv_interno, shuffle=True, random_state=1)\n",
    "modelo_knn = GridSearchCV(pipeline, parametros, scoring='roc_auc', cv=cv_interno, refit=True, n_jobs=-1)\n",
    "\n",
    "# Variável para receber os dados de cada repetição da validação cruzada\n",
    "resultado_knn = []\n",
    "\n",
    "# Repetição da validação cruzada aninhada\n",
    "for i in range(repetir_processo):\n",
    "    horario_inicio_loop = time.time()\n",
    "\n",
    "    cv_externo = KFold(n_splits=k_cv_externo, shuffle=True, random_state=i)\n",
    "\n",
    "    scores = cross_validate(modelo_knn, X, y.values.ravel(), cv=cv_externo, scoring='roc_auc', n_jobs=-1)\n",
    "    \n",
    "    auc_roc = np.mean(scores['test_score'])\n",
    "    desvio_pad = np.std(scores['test_score'])\n",
    "    resultado_knn.append(auc_roc)\n",
    "\n",
    "    horario_fim_loop = time.time()\n",
    "    tempo_total_loop = horario_fim_loop - horario_inicio_loop\n",
    "    minutos_loop, segundos_loop = divmod(tempo_total_loop, 60)\n",
    "\n",
    "    print(f\"AUC ROC {i+1}: {round(auc_roc,5)} ({round(desvio_pad,3)}) [{int(minutos_loop)}m{round(segundos_loop)}s]\")\n",
    "    \n",
    "# Visualizar a média final\n",
    "tempo_total = time.time() - horario_inicio\n",
    "minutos, segundos = divmod(tempo_total, 60)\n",
    "print(f\"Média AUC ROC: {round(np.mean(resultado_knn),5)} ({round(np.std(resultado_knn),3)})\")\n",
    "print(f\"Tempo total: {int(minutos)}m{round(segundos)}s\")"
   ]
  },
  {
   "attachments": {},
   "cell_type": "markdown",
   "metadata": {},
   "source": [
    "## Redes Neurais Artificiais"
   ]
  },
  {
   "cell_type": "code",
   "execution_count": 429,
   "metadata": {},
   "outputs": [
    {
     "name": "stderr",
     "output_type": "stream",
     "text": [
      "/Users/ricardoronsoni/anaconda3/lib/python3.10/site-packages/sklearn/neural_network/_multilayer_perceptron.py:684: ConvergenceWarning: Stochastic Optimizer: Maximum iterations (1000) reached and the optimization hasn't converged yet.\n",
      "  warnings.warn(\n",
      "/Users/ricardoronsoni/anaconda3/lib/python3.10/site-packages/sklearn/neural_network/_multilayer_perceptron.py:684: ConvergenceWarning: Stochastic Optimizer: Maximum iterations (1000) reached and the optimization hasn't converged yet.\n",
      "  warnings.warn(\n"
     ]
    },
    {
     "name": "stdout",
     "output_type": "stream",
     "text": [
      "AUC ROC 1: 0.74159 (0.004) [186m27s]\n"
     ]
    },
    {
     "name": "stderr",
     "output_type": "stream",
     "text": [
      "/Users/ricardoronsoni/anaconda3/lib/python3.10/site-packages/sklearn/neural_network/_multilayer_perceptron.py:684: ConvergenceWarning: Stochastic Optimizer: Maximum iterations (1000) reached and the optimization hasn't converged yet.\n",
      "  warnings.warn(\n",
      "/Users/ricardoronsoni/anaconda3/lib/python3.10/site-packages/sklearn/neural_network/_multilayer_perceptron.py:684: ConvergenceWarning: Stochastic Optimizer: Maximum iterations (1000) reached and the optimization hasn't converged yet.\n",
      "  warnings.warn(\n",
      "/Users/ricardoronsoni/anaconda3/lib/python3.10/site-packages/sklearn/neural_network/_multilayer_perceptron.py:684: ConvergenceWarning: Stochastic Optimizer: Maximum iterations (1000) reached and the optimization hasn't converged yet.\n",
      "  warnings.warn(\n",
      "/Users/ricardoronsoni/anaconda3/lib/python3.10/site-packages/sklearn/neural_network/_multilayer_perceptron.py:684: ConvergenceWarning: Stochastic Optimizer: Maximum iterations (1000) reached and the optimization hasn't converged yet.\n",
      "  warnings.warn(\n",
      "/Users/ricardoronsoni/anaconda3/lib/python3.10/site-packages/sklearn/neural_network/_multilayer_perceptron.py:684: ConvergenceWarning: Stochastic Optimizer: Maximum iterations (1000) reached and the optimization hasn't converged yet.\n",
      "  warnings.warn(\n",
      "/Users/ricardoronsoni/anaconda3/lib/python3.10/site-packages/sklearn/neural_network/_multilayer_perceptron.py:684: ConvergenceWarning: Stochastic Optimizer: Maximum iterations (1000) reached and the optimization hasn't converged yet.\n",
      "  warnings.warn(\n",
      "/Users/ricardoronsoni/anaconda3/lib/python3.10/site-packages/sklearn/neural_network/_multilayer_perceptron.py:684: ConvergenceWarning: Stochastic Optimizer: Maximum iterations (1000) reached and the optimization hasn't converged yet.\n",
      "  warnings.warn(\n"
     ]
    },
    {
     "name": "stdout",
     "output_type": "stream",
     "text": [
      "AUC ROC 2: 0.73868 (0.007) [186m16s]\n"
     ]
    },
    {
     "name": "stderr",
     "output_type": "stream",
     "text": [
      "/Users/ricardoronsoni/anaconda3/lib/python3.10/site-packages/sklearn/neural_network/_multilayer_perceptron.py:684: ConvergenceWarning: Stochastic Optimizer: Maximum iterations (1000) reached and the optimization hasn't converged yet.\n",
      "  warnings.warn(\n"
     ]
    },
    {
     "name": "stdout",
     "output_type": "stream",
     "text": [
      "AUC ROC 3: 0.73973 (0.007) [193m30s]\n",
      "Média AUC ROC: 0.74 (0.001)\n",
      "Tempo total: 566m13s\n"
     ]
    }
   ],
   "source": [
    "# Hora início processo\n",
    "horario_inicio = time.time()\n",
    "\n",
    "# Adicionar o algoritmo ao pipeline\n",
    "pipeline.steps[-1] = (\"classifier\", MLPClassifier(max_iter=5000, random_state=1)) \n",
    "\n",
    "# Hiperparâmetros para teste\n",
    "parametros = {\n",
    "    'classifier__activation': ['relu', 'tanh'], \n",
    "    'classifier__solver': ['adam', 'sgd']\n",
    "}\n",
    "\n",
    "# Seleção do modelo com os melhores hiperparâmetros\n",
    "cv_interno = KFold(n_splits=k_cv_interno, shuffle=True, random_state=1)\n",
    "modelo_rna = GridSearchCV(pipeline, parametros, scoring='roc_auc', cv=cv_interno, refit=True, n_jobs=-1)\n",
    "\n",
    "# Variável para receber os dados de cada repetição da validação cruzada\n",
    "resultado_rna = []\n",
    "\n",
    "# Repetição da validação cruzada aninhada\n",
    "for i in range(repetir_processo):\n",
    "    horario_inicio_loop = time.time()\n",
    "\n",
    "    cv_externo = KFold(n_splits=k_cv_externo, shuffle=True, random_state=i)\n",
    "\n",
    "    scores = cross_validate(modelo_rna, X, y.values.ravel(), cv=cv_externo, scoring='roc_auc', n_jobs=-1)\n",
    "    \n",
    "    auc_roc = np.mean(scores['test_score'])\n",
    "    desvio_pad = np.std(scores['test_score'])\n",
    "    resultado_rna.append(auc_roc)\n",
    "\n",
    "    horario_fim_loop = time.time()\n",
    "    tempo_total_loop = horario_fim_loop - horario_inicio_loop\n",
    "    minutos_loop, segundos_loop = divmod(tempo_total_loop, 60)\n",
    "\n",
    "    print(f\"AUC ROC {i+1}: {round(auc_roc,5)} ({round(desvio_pad,3)}) [{int(minutos_loop)}m{round(segundos_loop)}s]\")\n",
    "    \n",
    "# Visualizar a média final\n",
    "tempo_total = time.time() - horario_inicio\n",
    "minutos, segundos = divmod(tempo_total, 60)\n",
    "print(f\"Média AUC ROC: {round(np.mean(resultado_rna),5)} ({round(np.std(resultado_rna),3)})\")\n",
    "print(f\"Tempo total: {int(minutos)}m{round(segundos)}s\")"
   ]
  },
  {
   "attachments": {},
   "cell_type": "markdown",
   "metadata": {},
   "source": [
    "# Selecionar hiperparâmetros\n",
    "Já definido o melhor algoritmo, procedeu-se com a seleção dos melhores hiperparâmetros para as Redes Neurais Artificiais (RNA). O processo foi realizado utilizando validação cruzada (10 divisões) e repetido três vezes. O modelo foi criado a partir de uma divisão da base em treino (80%) e teste (20%). As seguintes alterações foram realizadas em relação ao treinamento anterior com as RNA:   \n",
    "- Aumento do parâmetro `max_iter` para 5000;   \n",
    "- Definição de duas camadas ocultas com 30 neurônios cada;   \n",
    "- Adição do hiperparâmetro `alpha` para tunning do modelo."
   ]
  },
  {
   "cell_type": "code",
   "execution_count": 67,
   "metadata": {},
   "outputs": [
    {
     "name": "stdout",
     "output_type": "stream",
     "text": [
      "Melhores parâmetros: {'classifier__activation': 'relu', 'classifier__alpha': 0.0001, 'classifier__solver': 'sgd'}\n",
      "Melhor AUC ROC: 0.74243\n"
     ]
    }
   ],
   "source": [
    "# Adicionar o algoritmo ao pipeline\n",
    "pipeline.steps[-1] = (\"classifier\", MLPClassifier(hidden_layer_sizes=(30,30), max_iter=5000, random_state=1)) \n",
    "\n",
    "# Hiperparâmetros para teste\n",
    "parametros = {\n",
    "    'classifier__activation': ['relu', 'tanh'], \n",
    "    'classifier__solver': ['adam', 'sgd'],\n",
    "    'classifier__alpha': [0.0001, 0.001]\n",
    "}\n",
    "\n",
    "# Seleção do modelo com os melhores hiperparâmetros\n",
    "cv_interno = RepeatedKFold(n_splits=k_cv_interno, n_repeats=3, random_state=1)\n",
    "grid_search = GridSearchCV(pipeline, parametros, scoring='roc_auc', cv=cv_interno, refit=True, n_jobs=-1)\n",
    "\n",
    "# Verificar os melhores parâmetros\n",
    "X_treino, X_teste, y_treino, y_teste = train_test_split(X, y, test_size=0.20, random_state=1)\n",
    "gs_modelo = grid_search.fit(X_treino, y_treino.values.ravel())\n",
    "\n",
    "# Salvar o modelo treinado\n",
    "with open('modelo.pkl', 'wb') as file:\n",
    "    pickle.dump(gs_modelo.best_estimator_, file)\n",
    "\n",
    "# Consultar os melhores parâmetros\n",
    "print(f\"Melhores parâmetros: {gs_modelo.best_params_}\")\n",
    "print(f\"Melhor AUC ROC: {round(gs_modelo.best_score_, 5)}\")"
   ]
  },
  {
   "attachments": {},
   "cell_type": "markdown",
   "metadata": {},
   "source": [
    "# Predição e resultados\n",
    "A predição foi realizada com o modelo criado com os melhores parâmetros do `GridSearchCV`. Após isso, foram apresentadas as seguites métricas de avaliação da predição:   \n",
    "- Acurácia (Accuracy): É a proporção de registros corretamente classificados em relação ao total.   \n",
    "- Precisão (Precision): Indica a proporção de registros classificados como positivos que são realmente positivos.   \n",
    "- Sensibilidade (Recall): É a proporção de exemplos positivos que foram corretamente identificados.   \n",
    "- F1-Score: É uma medida combinada da precisão e revocação, calculada como a média harmônica entre essas duas métricas.   \n",
    "- Área sob a curva ROC (AUC-ROC): É uma métrica que avalia a capacidade discriminativa do modelo em diferentes limiares de classificação. Ela mede a capacidade de distinguir entre as classes positiva e negativa, independentemente do ponto de corte.   \n",
    "- Curva de calibração: Informa a precisão com que a probabilidade predita corresponde à taxa de eventos observada em um conjunto de dados."
   ]
  },
  {
   "cell_type": "code",
   "execution_count": 68,
   "metadata": {},
   "outputs": [],
   "source": [
    "# Realizar a predição\n",
    "y_previsto = gs_modelo.predict(X_teste)"
   ]
  },
  {
   "cell_type": "code",
   "execution_count": 99,
   "metadata": {},
   "outputs": [
    {
     "data": {
      "image/png": "[encoded data removed]",
      "text/plain": [
       "<Figure size 640x480 with 1 Axes>"
      ]
     },
     "metadata": {},
     "output_type": "display_data"
    },
    {
     "name": "stdout",
     "output_type": "stream",
     "text": [
      "Acurácia: 0.704\n",
      "Precisão: 0.933\n",
      "Sensibilidade (Recall): 0.710\n",
      "F1-Score: 0.806\n"
     ]
    },
    {
     "data": {
      "image/png": "[encoded data removed]",
      "text/plain": [
       "<Figure size 640x480 with 1 Axes>"
      ]
     },
     "metadata": {},
     "output_type": "display_data"
    },
    {
     "data": {
      "image/png": "[encoded data removed]",
      "text/plain": [
       "<Figure size 640x480 with 1 Axes>"
      ]
     },
     "metadata": {},
     "output_type": "display_data"
    }
   ],
   "source": [
    "# Calcular a matriz de confusão\n",
    "cm = confusion_matrix(y_teste, y_previsto)\n",
    "\n",
    "# Reorganizar a matriz de confusão para os valores da variável dependente\n",
    "verdadeiros_positivos = cm[0, 0]\n",
    "falsos_positivos = cm[1, 0]\n",
    "falsos_negativos = cm[0, 1]\n",
    "verdadeiros_negativos = cm[1, 1]\n",
    "confusion_matrix = np.array([[verdadeiros_negativos, falsos_positivos], [falsos_negativos, verdadeiros_positivos]])\n",
    "\n",
    "# Plotar a matriz de confusão\n",
    "plt.figure()\n",
    "sns.heatmap(confusion_matrix, annot=True, cmap='Blues', fmt='d', cbar=False)\n",
    "plt.xlabel('Previsto')\n",
    "plt.ylabel('Real')\n",
    "plt.title('Matriz de Confusão')\n",
    "plt.show()\n",
    "\n",
    "# Calcular as métricas de avaliação\n",
    "accuracy = np.diagonal(confusion_matrix).sum() / confusion_matrix.sum()\n",
    "precision = verdadeiros_positivos / (falsos_positivos + verdadeiros_positivos)\n",
    "recall = verdadeiros_positivos / (falsos_negativos + verdadeiros_positivos)\n",
    "f1_score = 2 * (precision * recall) / (precision + recall)\n",
    "\n",
    "# Apresentar os valores das métricas\n",
    "print(f'Acurácia: {accuracy:.3f}')\n",
    "print(f'Precisão: {precision:.3f}')\n",
    "print(f'Sensibilidade (Recall): {recall:.3f}')\n",
    "print(f'F1-Score: {f1_score:.3f}')\n",
    "\n",
    "# Calcular a curva ROC\n",
    "fpr, tpr, thresholds = roc_curve(y_teste, y_previsto)\n",
    "auc = roc_auc_score(y_teste, y_previsto)\n",
    "\n",
    "# Plotar a curva ROC\n",
    "plt.figure()\n",
    "plt.plot(fpr, tpr, label=f'AUC = {auc:.3f}')\n",
    "plt.plot([0, 1], [0, 1], 'k--')\n",
    "plt.xlabel('Taxa de Falso Positivo')\n",
    "plt.ylabel('Taxa de Verdadeiro Positivo')\n",
    "plt.title('Curva ROC')\n",
    "plt.legend(loc='lower right')\n",
    "plt.show()\n",
    "\n",
    "# Calcular a curva\n",
    "percentiles, observed_rates = calibration_curve(y_teste, y_previsto, n_bins=10)\n",
    "\n",
    "# Plote a curva de calibração\n",
    "plt.plot(observed_rates, percentiles, marker='o', linewidth=1)\n",
    "plt.plot([0, 1], [0, 1], color='red', linestyle='--')\n",
    "plt.xlabel('Probabilidade Prevista')\n",
    "plt.ylabel('Taxa Observada')\n",
    "plt.title('Curva de Calibração')\n",
    "plt.show()"
   ]
  },
  {
   "attachments": {},
   "cell_type": "markdown",
   "metadata": {},
   "source": [
    "Ao avaliar os resultados por classe, verificou-se que o algoritmo teve as seguintes taxas de acerto (acurácia):\n",
    "- Classe 0 (não migrou de tratamento): 66,33%\n",
    "- Classe 1 (migrou de tratamento): 70,97%"
   ]
  }
 ],
 "metadata": {
  "kernelspec": {
   "display_name": "base",
   "language": "python",
   "name": "python3"
  },
  "language_info": {
   "codemirror_mode": {
    "name": "ipython",
    "version": 3
   },
   "file_extension": ".py",
   "mimetype": "text/x-python",
   "name": "python",
   "nbconvert_exporter": "python",
   "pygments_lexer": "ipython3",
   "version": "3.10.11"
  },
  "orig_nbformat": 4
 },
 "nbformat": 4,
 "nbformat_minor": 2
}
